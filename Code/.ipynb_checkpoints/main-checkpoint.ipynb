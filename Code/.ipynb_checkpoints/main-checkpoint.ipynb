{
 "cells": [
  {
   "cell_type": "code",
   "execution_count": 95,
   "metadata": {
    "id": "QGlTUfEtrdPD"
   },
   "outputs": [],
   "source": [
    "import sys\n",
    "if 'google.colab' in sys.modules:\n",
    "  %pip install -q stellargraph[demos]==1.2.1"
   ]
  },
  {
   "cell_type": "code",
   "execution_count": 96,
   "metadata": {
    "id": "TZnzO4Wtr9hX"
   },
   "outputs": [],
   "source": [
    "import stellargraph as sg\n",
    "\n",
    "try:\n",
    "    sg.utils.validate_notebook_version(\"1.2.1\")\n",
    "except AttributeError:\n",
    "    raise ValueError(\n",
    "        f\"This notebook requires StellarGraph version 1.2.1, but a different version {sg.__version__} is installed.  Please see <https://github.com/stellargraph/stellargraph/issues/1172>.\"\n",
    "    ) from None"
   ]
  },
  {
   "cell_type": "code",
   "execution_count": 97,
   "metadata": {
    "id": "MQ0VCVU6sA3-"
   },
   "outputs": [],
   "source": [
    "import pandas as pd\n",
    "import os\n",
    "\n",
    "import stellargraph as sg\n",
    "from stellargraph.mapper import FullBatchNodeGenerator\n",
    "from stellargraph.layer import GCN\n",
    "\n",
    "from tensorflow.keras import layers, optimizers, losses, metrics, Model\n",
    "from sklearn import preprocessing, model_selection\n",
    "from IPython.display import display, HTML\n",
    "import matplotlib.pyplot as plt\n",
    "%matplotlib inline"
   ]
  },
  {
   "cell_type": "code",
   "execution_count": 99,
   "metadata": {
    "colab": {
     "base_uri": "https://localhost:8080/",
     "height": 52
    },
    "id": "SDRPLni2uxmo",
    "outputId": "fbefaf96-266f-4ce5-f67a-2db770cc3f19"
   },
   "outputs": [
    {
     "data": {
      "text/html": [
       "The Cora dataset consists of 2708 scientific publications classified into one of seven classes. The citation network consists of 5429 links. Each publication in the dataset is described by a 0/1-valued word vector indicating the absence/presence of the corresponding word from the dictionary. The dictionary consists of 1433 unique words."
      ],
      "text/plain": [
       "<IPython.core.display.HTML object>"
      ]
     },
     "metadata": {},
     "output_type": "display_data"
    }
   ],
   "source": [
    "dataset = sg.datasets.Cora()\n",
    "display(HTML(dataset.description))\n",
    "graph, unique_labels = dataset.load()"
   ]
  },
  {
   "cell_type": "code",
   "execution_count": 100,
   "metadata": {
    "colab": {
     "base_uri": "https://localhost:8080/"
    },
    "id": "0pc--JpnvEw2",
    "outputId": "cdace454-0c4b-48cf-b488-d8cf3347f517"
   },
   "outputs": [
    {
     "name": "stdout",
     "output_type": "stream",
     "text": [
      "StellarGraph: Undirected multigraph\n",
      " Nodes: 2708, Edges: 5429\n",
      "\n",
      " Node types:\n",
      "  paper: [2708]\n",
      "    Features: float32 vector, length 1433\n",
      "    Edge types: paper-cites->paper\n",
      "\n",
      " Edge types:\n",
      "    paper-cites->paper: [5429]\n",
      "        Weights: all 1 (default)\n",
      "        Features: none\n"
     ]
    }
   ],
   "source": [
    "print(graph.info())"
   ]
  },
  {
   "cell_type": "code",
   "execution_count": 101,
   "metadata": {
    "colab": {
     "base_uri": "https://localhost:8080/",
     "height": 269
    },
    "id": "0XXQ7d6xvs43",
    "outputId": "0f2e826b-fb8b-4c79-a044-01fa6bbea759"
   },
   "outputs": [
    {
     "data": {
      "text/html": [
       "\n",
       "  <div id=\"df-8cba075f-6e57-4c18-af74-1fa1afcf047d\">\n",
       "    <div class=\"colab-df-container\">\n",
       "      <div>\n",
       "<style scoped>\n",
       "    .dataframe tbody tr th:only-of-type {\n",
       "        vertical-align: middle;\n",
       "    }\n",
       "\n",
       "    .dataframe tbody tr th {\n",
       "        vertical-align: top;\n",
       "    }\n",
       "\n",
       "    .dataframe thead th {\n",
       "        text-align: right;\n",
       "    }\n",
       "</style>\n",
       "<table border=\"1\" class=\"dataframe\">\n",
       "  <thead>\n",
       "    <tr style=\"text-align: right;\">\n",
       "      <th></th>\n",
       "      <th>subject</th>\n",
       "    </tr>\n",
       "  </thead>\n",
       "  <tbody>\n",
       "    <tr>\n",
       "      <th>Neural_Networks</th>\n",
       "      <td>818</td>\n",
       "    </tr>\n",
       "    <tr>\n",
       "      <th>Probabilistic_Methods</th>\n",
       "      <td>426</td>\n",
       "    </tr>\n",
       "    <tr>\n",
       "      <th>Genetic_Algorithms</th>\n",
       "      <td>418</td>\n",
       "    </tr>\n",
       "    <tr>\n",
       "      <th>Theory</th>\n",
       "      <td>351</td>\n",
       "    </tr>\n",
       "    <tr>\n",
       "      <th>Case_Based</th>\n",
       "      <td>298</td>\n",
       "    </tr>\n",
       "    <tr>\n",
       "      <th>Reinforcement_Learning</th>\n",
       "      <td>217</td>\n",
       "    </tr>\n",
       "    <tr>\n",
       "      <th>Rule_Learning</th>\n",
       "      <td>180</td>\n",
       "    </tr>\n",
       "  </tbody>\n",
       "</table>\n",
       "</div>\n",
       "      <button class=\"colab-df-convert\" onclick=\"convertToInteractive('df-8cba075f-6e57-4c18-af74-1fa1afcf047d')\"\n",
       "              title=\"Convert this dataframe to an interactive table.\"\n",
       "              style=\"display:none;\">\n",
       "        \n",
       "  <svg xmlns=\"http://www.w3.org/2000/svg\" height=\"24px\"viewBox=\"0 0 24 24\"\n",
       "       width=\"24px\">\n",
       "    <path d=\"M0 0h24v24H0V0z\" fill=\"none\"/>\n",
       "    <path d=\"M18.56 5.44l.94 2.06.94-2.06 2.06-.94-2.06-.94-.94-2.06-.94 2.06-2.06.94zm-11 1L8.5 8.5l.94-2.06 2.06-.94-2.06-.94L8.5 2.5l-.94 2.06-2.06.94zm10 10l.94 2.06.94-2.06 2.06-.94-2.06-.94-.94-2.06-.94 2.06-2.06.94z\"/><path d=\"M17.41 7.96l-1.37-1.37c-.4-.4-.92-.59-1.43-.59-.52 0-1.04.2-1.43.59L10.3 9.45l-7.72 7.72c-.78.78-.78 2.05 0 2.83L4 21.41c.39.39.9.59 1.41.59.51 0 1.02-.2 1.41-.59l7.78-7.78 2.81-2.81c.8-.78.8-2.07 0-2.86zM5.41 20L4 18.59l7.72-7.72 1.47 1.35L5.41 20z\"/>\n",
       "  </svg>\n",
       "      </button>\n",
       "      \n",
       "  <style>\n",
       "    .colab-df-container {\n",
       "      display:flex;\n",
       "      flex-wrap:wrap;\n",
       "      gap: 12px;\n",
       "    }\n",
       "\n",
       "    .colab-df-convert {\n",
       "      background-color: #E8F0FE;\n",
       "      border: none;\n",
       "      border-radius: 50%;\n",
       "      cursor: pointer;\n",
       "      display: none;\n",
       "      fill: #1967D2;\n",
       "      height: 32px;\n",
       "      padding: 0 0 0 0;\n",
       "      width: 32px;\n",
       "    }\n",
       "\n",
       "    .colab-df-convert:hover {\n",
       "      background-color: #E2EBFA;\n",
       "      box-shadow: 0px 1px 2px rgba(60, 64, 67, 0.3), 0px 1px 3px 1px rgba(60, 64, 67, 0.15);\n",
       "      fill: #174EA6;\n",
       "    }\n",
       "\n",
       "    [theme=dark] .colab-df-convert {\n",
       "      background-color: #3B4455;\n",
       "      fill: #D2E3FC;\n",
       "    }\n",
       "\n",
       "    [theme=dark] .colab-df-convert:hover {\n",
       "      background-color: #434B5C;\n",
       "      box-shadow: 0px 1px 3px 1px rgba(0, 0, 0, 0.15);\n",
       "      filter: drop-shadow(0px 1px 2px rgba(0, 0, 0, 0.3));\n",
       "      fill: #FFFFFF;\n",
       "    }\n",
       "  </style>\n",
       "\n",
       "      <script>\n",
       "        const buttonEl =\n",
       "          document.querySelector('#df-8cba075f-6e57-4c18-af74-1fa1afcf047d button.colab-df-convert');\n",
       "        buttonEl.style.display =\n",
       "          google.colab.kernel.accessAllowed ? 'block' : 'none';\n",
       "\n",
       "        async function convertToInteractive(key) {\n",
       "          const element = document.querySelector('#df-8cba075f-6e57-4c18-af74-1fa1afcf047d');\n",
       "          const dataTable =\n",
       "            await google.colab.kernel.invokeFunction('convertToInteractive',\n",
       "                                                     [key], {});\n",
       "          if (!dataTable) return;\n",
       "\n",
       "          const docLinkHtml = 'Like what you see? Visit the ' +\n",
       "            '<a target=\"_blank\" href=https://colab.research.google.com/notebooks/data_table.ipynb>data table notebook</a>'\n",
       "            + ' to learn more about interactive tables.';\n",
       "          element.innerHTML = '';\n",
       "          dataTable['output_type'] = 'display_data';\n",
       "          await google.colab.output.renderOutput(dataTable, element);\n",
       "          const docLink = document.createElement('div');\n",
       "          docLink.innerHTML = docLinkHtml;\n",
       "          element.appendChild(docLink);\n",
       "        }\n",
       "      </script>\n",
       "    </div>\n",
       "  </div>\n",
       "  "
      ],
      "text/plain": [
       "                        subject\n",
       "Neural_Networks             818\n",
       "Probabilistic_Methods       426\n",
       "Genetic_Algorithms          418\n",
       "Theory                      351\n",
       "Case_Based                  298\n",
       "Reinforcement_Learning      217\n",
       "Rule_Learning               180"
      ]
     },
     "execution_count": 101,
     "metadata": {},
     "output_type": "execute_result"
    }
   ],
   "source": [
    "unique_labels.value_counts().to_frame()"
   ]
  },
  {
   "cell_type": "code",
   "execution_count": 102,
   "metadata": {
    "id": "A09RP8JQOXOU"
   },
   "outputs": [],
   "source": [
    "train_set, test_set = model_selection.train_test_split(\n",
    "    unique_labels, train_size=200, test_size=None, stratify=unique_labels\n",
    ")\n",
    "val_set, test_set = model_selection.train_test_split(\n",
    "    test_set, train_size=300, test_size=None, stratify=test_set\n",
    ")"
   ]
  },
  {
   "cell_type": "code",
   "execution_count": 103,
   "metadata": {
    "colab": {
     "base_uri": "https://localhost:8080/",
     "height": 269
    },
    "id": "OSg7rRklxvoo",
    "outputId": "ba5bd981-e368-44c6-eb59-ea6820171880"
   },
   "outputs": [
    {
     "data": {
      "text/html": [
       "\n",
       "  <div id=\"df-63dc3d8a-a97b-4693-8b09-8d9f222ea1e0\">\n",
       "    <div class=\"colab-df-container\">\n",
       "      <div>\n",
       "<style scoped>\n",
       "    .dataframe tbody tr th:only-of-type {\n",
       "        vertical-align: middle;\n",
       "    }\n",
       "\n",
       "    .dataframe tbody tr th {\n",
       "        vertical-align: top;\n",
       "    }\n",
       "\n",
       "    .dataframe thead th {\n",
       "        text-align: right;\n",
       "    }\n",
       "</style>\n",
       "<table border=\"1\" class=\"dataframe\">\n",
       "  <thead>\n",
       "    <tr style=\"text-align: right;\">\n",
       "      <th></th>\n",
       "      <th>subject</th>\n",
       "    </tr>\n",
       "  </thead>\n",
       "  <tbody>\n",
       "    <tr>\n",
       "      <th>Neural_Networks</th>\n",
       "      <td>60</td>\n",
       "    </tr>\n",
       "    <tr>\n",
       "      <th>Probabilistic_Methods</th>\n",
       "      <td>32</td>\n",
       "    </tr>\n",
       "    <tr>\n",
       "      <th>Genetic_Algorithms</th>\n",
       "      <td>31</td>\n",
       "    </tr>\n",
       "    <tr>\n",
       "      <th>Theory</th>\n",
       "      <td>26</td>\n",
       "    </tr>\n",
       "    <tr>\n",
       "      <th>Case_Based</th>\n",
       "      <td>22</td>\n",
       "    </tr>\n",
       "    <tr>\n",
       "      <th>Reinforcement_Learning</th>\n",
       "      <td>16</td>\n",
       "    </tr>\n",
       "    <tr>\n",
       "      <th>Rule_Learning</th>\n",
       "      <td>13</td>\n",
       "    </tr>\n",
       "  </tbody>\n",
       "</table>\n",
       "</div>\n",
       "      <button class=\"colab-df-convert\" onclick=\"convertToInteractive('df-63dc3d8a-a97b-4693-8b09-8d9f222ea1e0')\"\n",
       "              title=\"Convert this dataframe to an interactive table.\"\n",
       "              style=\"display:none;\">\n",
       "        \n",
       "  <svg xmlns=\"http://www.w3.org/2000/svg\" height=\"24px\"viewBox=\"0 0 24 24\"\n",
       "       width=\"24px\">\n",
       "    <path d=\"M0 0h24v24H0V0z\" fill=\"none\"/>\n",
       "    <path d=\"M18.56 5.44l.94 2.06.94-2.06 2.06-.94-2.06-.94-.94-2.06-.94 2.06-2.06.94zm-11 1L8.5 8.5l.94-2.06 2.06-.94-2.06-.94L8.5 2.5l-.94 2.06-2.06.94zm10 10l.94 2.06.94-2.06 2.06-.94-2.06-.94-.94-2.06-.94 2.06-2.06.94z\"/><path d=\"M17.41 7.96l-1.37-1.37c-.4-.4-.92-.59-1.43-.59-.52 0-1.04.2-1.43.59L10.3 9.45l-7.72 7.72c-.78.78-.78 2.05 0 2.83L4 21.41c.39.39.9.59 1.41.59.51 0 1.02-.2 1.41-.59l7.78-7.78 2.81-2.81c.8-.78.8-2.07 0-2.86zM5.41 20L4 18.59l7.72-7.72 1.47 1.35L5.41 20z\"/>\n",
       "  </svg>\n",
       "      </button>\n",
       "      \n",
       "  <style>\n",
       "    .colab-df-container {\n",
       "      display:flex;\n",
       "      flex-wrap:wrap;\n",
       "      gap: 12px;\n",
       "    }\n",
       "\n",
       "    .colab-df-convert {\n",
       "      background-color: #E8F0FE;\n",
       "      border: none;\n",
       "      border-radius: 50%;\n",
       "      cursor: pointer;\n",
       "      display: none;\n",
       "      fill: #1967D2;\n",
       "      height: 32px;\n",
       "      padding: 0 0 0 0;\n",
       "      width: 32px;\n",
       "    }\n",
       "\n",
       "    .colab-df-convert:hover {\n",
       "      background-color: #E2EBFA;\n",
       "      box-shadow: 0px 1px 2px rgba(60, 64, 67, 0.3), 0px 1px 3px 1px rgba(60, 64, 67, 0.15);\n",
       "      fill: #174EA6;\n",
       "    }\n",
       "\n",
       "    [theme=dark] .colab-df-convert {\n",
       "      background-color: #3B4455;\n",
       "      fill: #D2E3FC;\n",
       "    }\n",
       "\n",
       "    [theme=dark] .colab-df-convert:hover {\n",
       "      background-color: #434B5C;\n",
       "      box-shadow: 0px 1px 3px 1px rgba(0, 0, 0, 0.15);\n",
       "      filter: drop-shadow(0px 1px 2px rgba(0, 0, 0, 0.3));\n",
       "      fill: #FFFFFF;\n",
       "    }\n",
       "  </style>\n",
       "\n",
       "      <script>\n",
       "        const buttonEl =\n",
       "          document.querySelector('#df-63dc3d8a-a97b-4693-8b09-8d9f222ea1e0 button.colab-df-convert');\n",
       "        buttonEl.style.display =\n",
       "          google.colab.kernel.accessAllowed ? 'block' : 'none';\n",
       "\n",
       "        async function convertToInteractive(key) {\n",
       "          const element = document.querySelector('#df-63dc3d8a-a97b-4693-8b09-8d9f222ea1e0');\n",
       "          const dataTable =\n",
       "            await google.colab.kernel.invokeFunction('convertToInteractive',\n",
       "                                                     [key], {});\n",
       "          if (!dataTable) return;\n",
       "\n",
       "          const docLinkHtml = 'Like what you see? Visit the ' +\n",
       "            '<a target=\"_blank\" href=https://colab.research.google.com/notebooks/data_table.ipynb>data table notebook</a>'\n",
       "            + ' to learn more about interactive tables.';\n",
       "          element.innerHTML = '';\n",
       "          dataTable['output_type'] = 'display_data';\n",
       "          await google.colab.output.renderOutput(dataTable, element);\n",
       "          const docLink = document.createElement('div');\n",
       "          docLink.innerHTML = docLinkHtml;\n",
       "          element.appendChild(docLink);\n",
       "        }\n",
       "      </script>\n",
       "    </div>\n",
       "  </div>\n",
       "  "
      ],
      "text/plain": [
       "                        subject\n",
       "Neural_Networks              60\n",
       "Probabilistic_Methods        32\n",
       "Genetic_Algorithms           31\n",
       "Theory                       26\n",
       "Case_Based                   22\n",
       "Reinforcement_Learning       16\n",
       "Rule_Learning                13"
      ]
     },
     "execution_count": 103,
     "metadata": {},
     "output_type": "execute_result"
    }
   ],
   "source": [
    "train_set.value_counts().to_frame()"
   ]
  },
  {
   "cell_type": "code",
   "execution_count": 104,
   "metadata": {
    "id": "mhDDxKOEx5kA"
   },
   "outputs": [],
   "source": [
    "target_encoding = preprocessing.LabelBinarizer()\n",
    "train_target = target_encoding.fit_transform(train_set)\n",
    "val_targets = target_encoding.transform(val_set)\n",
    "test_target = target_encoding.transform(test_set)"
   ]
  },
  {
   "cell_type": "code",
   "execution_count": 105,
   "metadata": {
    "colab": {
     "base_uri": "https://localhost:8080/"
    },
    "id": "xj6Br5WC9UrY",
    "outputId": "56789b08-26b4-453d-e351-e5e14a0528b2"
   },
   "outputs": [
    {
     "name": "stdout",
     "output_type": "stream",
     "text": [
      "Using GCN (local pooling) filters...\n"
     ]
    }
   ],
   "source": [
    "generator = FullBatchNodeGenerator(graph, method=\"gcn\")"
   ]
  },
  {
   "cell_type": "code",
   "execution_count": 106,
   "metadata": {
    "id": "YJSKeh4_CjrU"
   },
   "outputs": [],
   "source": [
    "train_gen = generator.flow(train_set.index, train_target)"
   ]
  },
  {
   "cell_type": "code",
   "execution_count": 123,
   "metadata": {
    "id": "NGC11MHTC_Sa"
   },
   "outputs": [],
   "source": [
    "gcn = GCN(\n",
    "    layer_sizes=[16, 16], activations=[\"relu\", \"relu\"], generator=generator, dropout=0.5\n",
    ")"
   ]
  },
  {
   "cell_type": "code",
   "execution_count": 124,
   "metadata": {
    "colab": {
     "base_uri": "https://localhost:8080/"
    },
    "id": "VDfGIfhmF9oJ",
    "outputId": "c07f79a3-c826-4e5d-8ca5-1b1f762afbf7"
   },
   "outputs": [
    {
     "data": {
      "text/plain": [
       "<KerasTensor: shape=(1, None, 16) dtype=float32 (created by layer 'gather_indices_6')>"
      ]
     },
     "execution_count": 124,
     "metadata": {},
     "output_type": "execute_result"
    }
   ],
   "source": [
    "x_inp, x_out = gcn.in_out_tensors()\n",
    "\n",
    "x_out"
   ]
  },
  {
   "cell_type": "code",
   "execution_count": 126,
   "metadata": {
    "id": "WgyulvaAGVKJ"
   },
   "outputs": [],
   "source": [
    "predictions = layers.Dense(units=train_target.shape[1], activation=\"softmax\")(x_out)"
   ]
  },
  {
   "cell_type": "code",
   "execution_count": 127,
   "metadata": {
    "colab": {
     "base_uri": "https://localhost:8080/"
    },
    "id": "QZTeGX7JGgtu",
    "outputId": "c63add54-a540-4cda-d2da-f98f3cc1b7cb"
   },
   "outputs": [
    {
     "name": "stderr",
     "output_type": "stream",
     "text": [
      "/usr/local/lib/python3.7/dist-packages/keras/optimizer_v2/adam.py:105: UserWarning: The `lr` argument is deprecated, use `learning_rate` instead.\n",
      "  super(Adam, self).__init__(name, **kwargs)\n"
     ]
    }
   ],
   "source": [
    "model = Model(inputs=x_inp, outputs=predictions)\n",
    "model.compile(\n",
    "    optimizer=optimizers.Adam(lr=0.01),\n",
    "    loss=losses.categorical_crossentropy,\n",
    "    metrics=[\"acc\"],\n",
    ")"
   ]
  },
  {
   "cell_type": "code",
   "execution_count": 129,
   "metadata": {
    "id": "465gjn-7GoLD"
   },
   "outputs": [],
   "source": [
    "val_gen = generator.flow(val_set.index, val_targets)"
   ]
  },
  {
   "cell_type": "code",
   "execution_count": 130,
   "metadata": {
    "id": "00-WTpKRGw1Q"
   },
   "outputs": [],
   "source": [
    "from tensorflow.keras.callbacks import EarlyStopping\n",
    "\n",
    "es_callback = EarlyStopping(monitor=\"val_acc\", patience=50, restore_best_weights=True)"
   ]
  },
  {
   "cell_type": "code",
   "execution_count": 131,
   "metadata": {
    "colab": {
     "base_uri": "https://localhost:8080/"
    },
    "id": "5_AKNb6PG3hV",
    "outputId": "7c10f43b-f703-46e6-9805-69d72190761c"
   },
   "outputs": [
    {
     "name": "stdout",
     "output_type": "stream",
     "text": [
      "Epoch 1/150\n",
      "1/1 - 1s - loss: 1.9349 - acc: 0.1700 - val_loss: 1.8725 - val_acc: 0.3000 - 1s/epoch - 1s/step\n",
      "Epoch 2/150\n",
      "1/1 - 0s - loss: 1.8604 - acc: 0.3100 - val_loss: 1.7996 - val_acc: 0.3033 - 136ms/epoch - 136ms/step\n",
      "Epoch 3/150\n",
      "1/1 - 0s - loss: 1.7702 - acc: 0.3050 - val_loss: 1.7243 - val_acc: 0.3033 - 138ms/epoch - 138ms/step\n",
      "Epoch 4/150\n",
      "1/1 - 0s - loss: 1.6794 - acc: 0.3050 - val_loss: 1.6532 - val_acc: 0.3033 - 142ms/epoch - 142ms/step\n",
      "Epoch 5/150\n",
      "1/1 - 0s - loss: 1.5832 - acc: 0.3150 - val_loss: 1.5825 - val_acc: 0.3033 - 139ms/epoch - 139ms/step\n",
      "Epoch 6/150\n",
      "1/1 - 0s - loss: 1.5109 - acc: 0.3250 - val_loss: 1.5011 - val_acc: 0.3200 - 152ms/epoch - 152ms/step\n",
      "Epoch 7/150\n",
      "1/1 - 0s - loss: 1.4178 - acc: 0.3650 - val_loss: 1.4083 - val_acc: 0.3733 - 138ms/epoch - 138ms/step\n",
      "Epoch 8/150\n",
      "1/1 - 0s - loss: 1.3202 - acc: 0.4300 - val_loss: 1.3185 - val_acc: 0.4833 - 135ms/epoch - 135ms/step\n",
      "Epoch 9/150\n",
      "1/1 - 0s - loss: 1.1853 - acc: 0.6200 - val_loss: 1.2412 - val_acc: 0.6100 - 143ms/epoch - 143ms/step\n",
      "Epoch 10/150\n",
      "1/1 - 0s - loss: 1.1061 - acc: 0.6500 - val_loss: 1.1685 - val_acc: 0.7033 - 173ms/epoch - 173ms/step\n",
      "Epoch 11/150\n",
      "1/1 - 0s - loss: 0.9985 - acc: 0.7400 - val_loss: 1.0975 - val_acc: 0.7333 - 180ms/epoch - 180ms/step\n",
      "Epoch 12/150\n",
      "1/1 - 0s - loss: 0.9632 - acc: 0.7750 - val_loss: 1.0283 - val_acc: 0.7433 - 168ms/epoch - 168ms/step\n",
      "Epoch 13/150\n",
      "1/1 - 0s - loss: 0.8762 - acc: 0.7950 - val_loss: 0.9641 - val_acc: 0.7600 - 191ms/epoch - 191ms/step\n",
      "Epoch 14/150\n",
      "1/1 - 0s - loss: 0.7881 - acc: 0.8200 - val_loss: 0.9078 - val_acc: 0.7667 - 166ms/epoch - 166ms/step\n",
      "Epoch 15/150\n",
      "1/1 - 0s - loss: 0.7370 - acc: 0.8050 - val_loss: 0.8607 - val_acc: 0.7733 - 175ms/epoch - 175ms/step\n",
      "Epoch 16/150\n",
      "1/1 - 0s - loss: 0.5858 - acc: 0.8650 - val_loss: 0.8197 - val_acc: 0.7767 - 169ms/epoch - 169ms/step\n",
      "Epoch 17/150\n",
      "1/1 - 0s - loss: 0.5667 - acc: 0.8750 - val_loss: 0.7840 - val_acc: 0.7967 - 143ms/epoch - 143ms/step\n",
      "Epoch 18/150\n",
      "1/1 - 0s - loss: 0.5642 - acc: 0.8550 - val_loss: 0.7537 - val_acc: 0.7933 - 132ms/epoch - 132ms/step\n",
      "Epoch 19/150\n",
      "1/1 - 0s - loss: 0.4935 - acc: 0.8700 - val_loss: 0.7300 - val_acc: 0.7900 - 135ms/epoch - 135ms/step\n",
      "Epoch 20/150\n",
      "1/1 - 0s - loss: 0.4255 - acc: 0.9000 - val_loss: 0.7145 - val_acc: 0.7933 - 132ms/epoch - 132ms/step\n",
      "Epoch 21/150\n",
      "1/1 - 0s - loss: 0.3564 - acc: 0.9000 - val_loss: 0.7051 - val_acc: 0.7933 - 147ms/epoch - 147ms/step\n",
      "Epoch 22/150\n",
      "1/1 - 0s - loss: 0.2974 - acc: 0.9350 - val_loss: 0.7048 - val_acc: 0.8033 - 158ms/epoch - 158ms/step\n",
      "Epoch 23/150\n",
      "1/1 - 0s - loss: 0.2936 - acc: 0.9250 - val_loss: 0.7117 - val_acc: 0.8100 - 171ms/epoch - 171ms/step\n",
      "Epoch 24/150\n",
      "1/1 - 0s - loss: 0.3155 - acc: 0.9000 - val_loss: 0.7153 - val_acc: 0.8067 - 166ms/epoch - 166ms/step\n",
      "Epoch 25/150\n",
      "1/1 - 0s - loss: 0.2711 - acc: 0.9250 - val_loss: 0.7211 - val_acc: 0.8133 - 170ms/epoch - 170ms/step\n",
      "Epoch 26/150\n",
      "1/1 - 0s - loss: 0.2569 - acc: 0.9200 - val_loss: 0.7228 - val_acc: 0.8200 - 169ms/epoch - 169ms/step\n",
      "Epoch 27/150\n",
      "1/1 - 0s - loss: 0.2404 - acc: 0.9200 - val_loss: 0.7210 - val_acc: 0.8233 - 168ms/epoch - 168ms/step\n",
      "Epoch 28/150\n",
      "1/1 - 0s - loss: 0.2622 - acc: 0.9150 - val_loss: 0.7134 - val_acc: 0.8133 - 167ms/epoch - 167ms/step\n",
      "Epoch 29/150\n",
      "1/1 - 0s - loss: 0.1728 - acc: 0.9650 - val_loss: 0.7141 - val_acc: 0.8167 - 165ms/epoch - 165ms/step\n",
      "Epoch 30/150\n",
      "1/1 - 0s - loss: 0.2150 - acc: 0.9250 - val_loss: 0.7163 - val_acc: 0.8133 - 170ms/epoch - 170ms/step\n",
      "Epoch 31/150\n",
      "1/1 - 0s - loss: 0.1160 - acc: 0.9700 - val_loss: 0.7178 - val_acc: 0.8133 - 166ms/epoch - 166ms/step\n",
      "Epoch 32/150\n",
      "1/1 - 0s - loss: 0.1564 - acc: 0.9700 - val_loss: 0.7226 - val_acc: 0.8200 - 168ms/epoch - 168ms/step\n",
      "Epoch 33/150\n",
      "1/1 - 0s - loss: 0.1512 - acc: 0.9500 - val_loss: 0.7314 - val_acc: 0.8133 - 161ms/epoch - 161ms/step\n",
      "Epoch 34/150\n",
      "1/1 - 0s - loss: 0.1469 - acc: 0.9550 - val_loss: 0.7423 - val_acc: 0.8133 - 172ms/epoch - 172ms/step\n",
      "Epoch 35/150\n",
      "1/1 - 0s - loss: 0.1062 - acc: 0.9750 - val_loss: 0.7555 - val_acc: 0.8067 - 167ms/epoch - 167ms/step\n",
      "Epoch 36/150\n",
      "1/1 - 0s - loss: 0.1237 - acc: 0.9700 - val_loss: 0.7710 - val_acc: 0.8067 - 195ms/epoch - 195ms/step\n",
      "Epoch 37/150\n",
      "1/1 - 0s - loss: 0.1231 - acc: 0.9700 - val_loss: 0.7843 - val_acc: 0.8067 - 174ms/epoch - 174ms/step\n",
      "Epoch 38/150\n",
      "1/1 - 0s - loss: 0.0997 - acc: 0.9650 - val_loss: 0.7946 - val_acc: 0.8067 - 161ms/epoch - 161ms/step\n",
      "Epoch 39/150\n",
      "1/1 - 0s - loss: 0.0874 - acc: 0.9750 - val_loss: 0.8036 - val_acc: 0.8067 - 141ms/epoch - 141ms/step\n",
      "Epoch 40/150\n",
      "1/1 - 0s - loss: 0.0882 - acc: 0.9900 - val_loss: 0.8103 - val_acc: 0.8067 - 137ms/epoch - 137ms/step\n",
      "Epoch 41/150\n",
      "1/1 - 0s - loss: 0.0926 - acc: 0.9700 - val_loss: 0.8178 - val_acc: 0.8067 - 145ms/epoch - 145ms/step\n",
      "Epoch 42/150\n",
      "1/1 - 0s - loss: 0.0749 - acc: 0.9900 - val_loss: 0.8276 - val_acc: 0.8067 - 169ms/epoch - 169ms/step\n",
      "Epoch 43/150\n",
      "1/1 - 0s - loss: 0.1142 - acc: 0.9600 - val_loss: 0.8329 - val_acc: 0.8067 - 131ms/epoch - 131ms/step\n",
      "Epoch 44/150\n",
      "1/1 - 0s - loss: 0.0938 - acc: 0.9750 - val_loss: 0.8397 - val_acc: 0.8067 - 135ms/epoch - 135ms/step\n",
      "Epoch 45/150\n",
      "1/1 - 0s - loss: 0.0892 - acc: 0.9750 - val_loss: 0.8441 - val_acc: 0.8100 - 133ms/epoch - 133ms/step\n",
      "Epoch 46/150\n",
      "1/1 - 0s - loss: 0.1029 - acc: 0.9750 - val_loss: 0.8495 - val_acc: 0.8133 - 146ms/epoch - 146ms/step\n",
      "Epoch 47/150\n",
      "1/1 - 0s - loss: 0.0834 - acc: 0.9850 - val_loss: 0.8591 - val_acc: 0.8133 - 135ms/epoch - 135ms/step\n",
      "Epoch 48/150\n",
      "1/1 - 0s - loss: 0.0930 - acc: 0.9700 - val_loss: 0.8681 - val_acc: 0.8133 - 134ms/epoch - 134ms/step\n",
      "Epoch 49/150\n",
      "1/1 - 0s - loss: 0.0733 - acc: 0.9850 - val_loss: 0.8745 - val_acc: 0.8133 - 136ms/epoch - 136ms/step\n",
      "Epoch 50/150\n",
      "1/1 - 0s - loss: 0.0676 - acc: 0.9850 - val_loss: 0.8787 - val_acc: 0.8100 - 138ms/epoch - 138ms/step\n",
      "Epoch 51/150\n",
      "1/1 - 0s - loss: 0.0527 - acc: 0.9850 - val_loss: 0.8827 - val_acc: 0.8100 - 143ms/epoch - 143ms/step\n",
      "Epoch 52/150\n",
      "1/1 - 0s - loss: 0.0756 - acc: 0.9800 - val_loss: 0.8858 - val_acc: 0.8067 - 169ms/epoch - 169ms/step\n",
      "Epoch 53/150\n",
      "1/1 - 0s - loss: 0.0605 - acc: 0.9850 - val_loss: 0.8880 - val_acc: 0.8100 - 165ms/epoch - 165ms/step\n",
      "Epoch 54/150\n",
      "1/1 - 0s - loss: 0.0898 - acc: 0.9550 - val_loss: 0.8906 - val_acc: 0.8100 - 158ms/epoch - 158ms/step\n",
      "Epoch 55/150\n",
      "1/1 - 0s - loss: 0.0914 - acc: 0.9800 - val_loss: 0.8898 - val_acc: 0.8133 - 166ms/epoch - 166ms/step\n",
      "Epoch 56/150\n",
      "1/1 - 0s - loss: 0.0577 - acc: 0.9900 - val_loss: 0.8915 - val_acc: 0.8167 - 163ms/epoch - 163ms/step\n",
      "Epoch 57/150\n",
      "1/1 - 0s - loss: 0.0670 - acc: 0.9850 - val_loss: 0.8950 - val_acc: 0.8167 - 166ms/epoch - 166ms/step\n",
      "Epoch 58/150\n",
      "1/1 - 0s - loss: 0.0833 - acc: 0.9600 - val_loss: 0.8942 - val_acc: 0.8167 - 167ms/epoch - 167ms/step\n",
      "Epoch 59/150\n",
      "1/1 - 0s - loss: 0.0659 - acc: 0.9800 - val_loss: 0.8966 - val_acc: 0.8233 - 187ms/epoch - 187ms/step\n",
      "Epoch 60/150\n",
      "1/1 - 0s - loss: 0.0508 - acc: 0.9850 - val_loss: 0.9022 - val_acc: 0.8233 - 174ms/epoch - 174ms/step\n",
      "Epoch 61/150\n",
      "1/1 - 0s - loss: 0.0470 - acc: 0.9950 - val_loss: 0.9095 - val_acc: 0.8200 - 192ms/epoch - 192ms/step\n",
      "Epoch 62/150\n",
      "1/1 - 0s - loss: 0.0630 - acc: 0.9800 - val_loss: 0.9148 - val_acc: 0.8200 - 164ms/epoch - 164ms/step\n",
      "Epoch 63/150\n",
      "1/1 - 0s - loss: 0.0504 - acc: 0.9900 - val_loss: 0.9216 - val_acc: 0.8233 - 176ms/epoch - 176ms/step\n",
      "Epoch 64/150\n",
      "1/1 - 0s - loss: 0.0773 - acc: 0.9700 - val_loss: 0.9319 - val_acc: 0.8200 - 169ms/epoch - 169ms/step\n",
      "Epoch 65/150\n",
      "1/1 - 0s - loss: 0.0530 - acc: 0.9850 - val_loss: 0.9448 - val_acc: 0.8167 - 134ms/epoch - 134ms/step\n",
      "Epoch 66/150\n",
      "1/1 - 0s - loss: 0.0436 - acc: 0.9850 - val_loss: 0.9562 - val_acc: 0.8100 - 135ms/epoch - 135ms/step\n",
      "Epoch 67/150\n",
      "1/1 - 0s - loss: 0.0590 - acc: 0.9800 - val_loss: 0.9639 - val_acc: 0.8167 - 137ms/epoch - 137ms/step\n",
      "Epoch 68/150\n",
      "1/1 - 0s - loss: 0.0376 - acc: 1.0000 - val_loss: 0.9739 - val_acc: 0.8167 - 172ms/epoch - 172ms/step\n",
      "Epoch 69/150\n",
      "1/1 - 0s - loss: 0.0299 - acc: 0.9950 - val_loss: 0.9816 - val_acc: 0.8100 - 138ms/epoch - 138ms/step\n",
      "Epoch 70/150\n",
      "1/1 - 0s - loss: 0.0342 - acc: 0.9950 - val_loss: 0.9871 - val_acc: 0.8067 - 132ms/epoch - 132ms/step\n",
      "Epoch 71/150\n",
      "1/1 - 0s - loss: 0.0499 - acc: 0.9750 - val_loss: 0.9841 - val_acc: 0.8167 - 165ms/epoch - 165ms/step\n",
      "Epoch 72/150\n",
      "1/1 - 0s - loss: 0.0526 - acc: 0.9850 - val_loss: 0.9788 - val_acc: 0.8133 - 139ms/epoch - 139ms/step\n",
      "Epoch 73/150\n",
      "1/1 - 0s - loss: 0.0312 - acc: 0.9900 - val_loss: 0.9742 - val_acc: 0.8200 - 145ms/epoch - 145ms/step\n",
      "Epoch 74/150\n",
      "1/1 - 0s - loss: 0.0420 - acc: 0.9800 - val_loss: 0.9719 - val_acc: 0.8100 - 135ms/epoch - 135ms/step\n",
      "Epoch 75/150\n",
      "1/1 - 0s - loss: 0.0464 - acc: 0.9950 - val_loss: 0.9702 - val_acc: 0.8100 - 139ms/epoch - 139ms/step\n",
      "Epoch 76/150\n",
      "1/1 - 0s - loss: 0.0338 - acc: 1.0000 - val_loss: 0.9674 - val_acc: 0.8067 - 135ms/epoch - 135ms/step\n",
      "Epoch 77/150\n",
      "1/1 - 0s - loss: 0.0358 - acc: 0.9900 - val_loss: 0.9662 - val_acc: 0.8133 - 136ms/epoch - 136ms/step\n"
     ]
    }
   ],
   "source": [
    "history = model.fit(\n",
    "    train_gen,\n",
    "    epochs=150,\n",
    "    validation_data=val_gen,\n",
    "    verbose=2,\n",
    "    shuffle=False,  # this should be False, since shuffling data means shuffling the whole graph\n",
    "    callbacks=[es_callback],\n",
    ")"
   ]
  },
  {
   "cell_type": "code",
   "execution_count": 132,
   "metadata": {
    "colab": {
     "base_uri": "https://localhost:8080/",
     "height": 585
    },
    "id": "Dc8tLJ8IIEah",
    "outputId": "5973b83c-4683-4606-f109-bb1b07238f64"
   },
   "outputs": [
    {
     "data": {
      "image/png": "[encoded data removed]",
      "text/plain": [
       "<Figure size 504x576 with 2 Axes>"
      ]
     },
     "metadata": {
      "needs_background": "light"
     },
     "output_type": "display_data"
    }
   ],
   "source": [
    "sg.utils.plot_history(history)"
   ]
  },
  {
   "cell_type": "code",
   "execution_count": 133,
   "metadata": {
    "id": "TJiCUQsnJHbR"
   },
   "outputs": [],
   "source": [
    "test_gen = generator.flow(test_set.index, test_target)"
   ]
  },
  {
   "cell_type": "code",
   "execution_count": 134,
   "metadata": {
    "colab": {
     "base_uri": "https://localhost:8080/"
    },
    "id": "7gvlLuLfJVMN",
    "outputId": "92da9767-a241-4c7b-f5c8-8ea1c9c1a54d"
   },
   "outputs": [
    {
     "name": "stdout",
     "output_type": "stream",
     "text": [
      "1/1 [==============================] - 0s 73ms/step - loss: 0.6163 - acc: 0.8356\n",
      "\n",
      "Test Set Metrics:\n",
      "\tloss: 0.6163\n",
      "\tacc: 0.8356\n"
     ]
    }
   ],
   "source": [
    "test_metrics = model.evaluate(test_gen)\n",
    "print(\"\\nTest Set Metrics:\")\n",
    "for name, val in zip(model.metrics_names, test_metrics):\n",
    "    print(\"\\t{}: {:0.4f}\".format(name, val))"
   ]
  },
  {
   "cell_type": "code",
   "execution_count": 135,
   "metadata": {
    "id": "Y6dhheUGKimc"
   },
   "outputs": [],
   "source": [
    "all_nodes = unique_labels.index\n",
    "all_gen = generator.flow(all_nodes)\n",
    "all_predictions = model.predict(all_gen)"
   ]
  },
  {
   "cell_type": "code",
   "execution_count": 136,
   "metadata": {
    "id": "X7YevXhMK5Ui"
   },
   "outputs": [],
   "source": [
    "node_predictions = target_encoding.inverse_transform(all_predictions.squeeze())"
   ]
  },
  {
   "cell_type": "code",
   "execution_count": 137,
   "metadata": {
    "colab": {
     "base_uri": "https://localhost:8080/",
     "height": 676
    },
    "id": "5Q_gkTd0K89y",
    "outputId": "bde0dd68-8240-4955-aa3c-2a3cbdf9b9ba"
   },
   "outputs": [
    {
     "data": {
      "text/html": [
       "\n",
       "  <div id=\"df-451ee521-d5eb-4a4a-ac83-7fdc88b7008e\">\n",
       "    <div class=\"colab-df-container\">\n",
       "      <div>\n",
       "<style scoped>\n",
       "    .dataframe tbody tr th:only-of-type {\n",
       "        vertical-align: middle;\n",
       "    }\n",
       "\n",
       "    .dataframe tbody tr th {\n",
       "        vertical-align: top;\n",
       "    }\n",
       "\n",
       "    .dataframe thead th {\n",
       "        text-align: right;\n",
       "    }\n",
       "</style>\n",
       "<table border=\"1\" class=\"dataframe\">\n",
       "  <thead>\n",
       "    <tr style=\"text-align: right;\">\n",
       "      <th></th>\n",
       "      <th>Predicted</th>\n",
       "      <th>True</th>\n",
       "    </tr>\n",
       "  </thead>\n",
       "  <tbody>\n",
       "    <tr>\n",
       "      <th>31336</th>\n",
       "      <td>Neural_Networks</td>\n",
       "      <td>Neural_Networks</td>\n",
       "    </tr>\n",
       "    <tr>\n",
       "      <th>1061127</th>\n",
       "      <td>Rule_Learning</td>\n",
       "      <td>Rule_Learning</td>\n",
       "    </tr>\n",
       "    <tr>\n",
       "      <th>1106406</th>\n",
       "      <td>Reinforcement_Learning</td>\n",
       "      <td>Reinforcement_Learning</td>\n",
       "    </tr>\n",
       "    <tr>\n",
       "      <th>13195</th>\n",
       "      <td>Reinforcement_Learning</td>\n",
       "      <td>Reinforcement_Learning</td>\n",
       "    </tr>\n",
       "    <tr>\n",
       "      <th>37879</th>\n",
       "      <td>Probabilistic_Methods</td>\n",
       "      <td>Probabilistic_Methods</td>\n",
       "    </tr>\n",
       "    <tr>\n",
       "      <th>1126012</th>\n",
       "      <td>Reinforcement_Learning</td>\n",
       "      <td>Probabilistic_Methods</td>\n",
       "    </tr>\n",
       "    <tr>\n",
       "      <th>1107140</th>\n",
       "      <td>Reinforcement_Learning</td>\n",
       "      <td>Theory</td>\n",
       "    </tr>\n",
       "    <tr>\n",
       "      <th>1102850</th>\n",
       "      <td>Neural_Networks</td>\n",
       "      <td>Neural_Networks</td>\n",
       "    </tr>\n",
       "    <tr>\n",
       "      <th>31349</th>\n",
       "      <td>Neural_Networks</td>\n",
       "      <td>Neural_Networks</td>\n",
       "    </tr>\n",
       "    <tr>\n",
       "      <th>1106418</th>\n",
       "      <td>Theory</td>\n",
       "      <td>Theory</td>\n",
       "    </tr>\n",
       "    <tr>\n",
       "      <th>1123188</th>\n",
       "      <td>Neural_Networks</td>\n",
       "      <td>Neural_Networks</td>\n",
       "    </tr>\n",
       "    <tr>\n",
       "      <th>1128990</th>\n",
       "      <td>Theory</td>\n",
       "      <td>Genetic_Algorithms</td>\n",
       "    </tr>\n",
       "    <tr>\n",
       "      <th>109323</th>\n",
       "      <td>Probabilistic_Methods</td>\n",
       "      <td>Probabilistic_Methods</td>\n",
       "    </tr>\n",
       "    <tr>\n",
       "      <th>217139</th>\n",
       "      <td>Case_Based</td>\n",
       "      <td>Case_Based</td>\n",
       "    </tr>\n",
       "    <tr>\n",
       "      <th>31353</th>\n",
       "      <td>Neural_Networks</td>\n",
       "      <td>Neural_Networks</td>\n",
       "    </tr>\n",
       "    <tr>\n",
       "      <th>32083</th>\n",
       "      <td>Neural_Networks</td>\n",
       "      <td>Neural_Networks</td>\n",
       "    </tr>\n",
       "    <tr>\n",
       "      <th>1126029</th>\n",
       "      <td>Reinforcement_Learning</td>\n",
       "      <td>Reinforcement_Learning</td>\n",
       "    </tr>\n",
       "    <tr>\n",
       "      <th>1118017</th>\n",
       "      <td>Neural_Networks</td>\n",
       "      <td>Neural_Networks</td>\n",
       "    </tr>\n",
       "    <tr>\n",
       "      <th>49482</th>\n",
       "      <td>Neural_Networks</td>\n",
       "      <td>Neural_Networks</td>\n",
       "    </tr>\n",
       "    <tr>\n",
       "      <th>753265</th>\n",
       "      <td>Neural_Networks</td>\n",
       "      <td>Neural_Networks</td>\n",
       "    </tr>\n",
       "  </tbody>\n",
       "</table>\n",
       "</div>\n",
       "      <button class=\"colab-df-convert\" onclick=\"convertToInteractive('df-451ee521-d5eb-4a4a-ac83-7fdc88b7008e')\"\n",
       "              title=\"Convert this dataframe to an interactive table.\"\n",
       "              style=\"display:none;\">\n",
       "        \n",
       "  <svg xmlns=\"http://www.w3.org/2000/svg\" height=\"24px\"viewBox=\"0 0 24 24\"\n",
       "       width=\"24px\">\n",
       "    <path d=\"M0 0h24v24H0V0z\" fill=\"none\"/>\n",
       "    <path d=\"M18.56 5.44l.94 2.06.94-2.06 2.06-.94-2.06-.94-.94-2.06-.94 2.06-2.06.94zm-11 1L8.5 8.5l.94-2.06 2.06-.94-2.06-.94L8.5 2.5l-.94 2.06-2.06.94zm10 10l.94 2.06.94-2.06 2.06-.94-2.06-.94-.94-2.06-.94 2.06-2.06.94z\"/><path d=\"M17.41 7.96l-1.37-1.37c-.4-.4-.92-.59-1.43-.59-.52 0-1.04.2-1.43.59L10.3 9.45l-7.72 7.72c-.78.78-.78 2.05 0 2.83L4 21.41c.39.39.9.59 1.41.59.51 0 1.02-.2 1.41-.59l7.78-7.78 2.81-2.81c.8-.78.8-2.07 0-2.86zM5.41 20L4 18.59l7.72-7.72 1.47 1.35L5.41 20z\"/>\n",
       "  </svg>\n",
       "      </button>\n",
       "      \n",
       "  <style>\n",
       "    .colab-df-container {\n",
       "      display:flex;\n",
       "      flex-wrap:wrap;\n",
       "      gap: 12px;\n",
       "    }\n",
       "\n",
       "    .colab-df-convert {\n",
       "      background-color: #E8F0FE;\n",
       "      border: none;\n",
       "      border-radius: 50%;\n",
       "      cursor: pointer;\n",
       "      display: none;\n",
       "      fill: #1967D2;\n",
       "      height: 32px;\n",
       "      padding: 0 0 0 0;\n",
       "      width: 32px;\n",
       "    }\n",
       "\n",
       "    .colab-df-convert:hover {\n",
       "      background-color: #E2EBFA;\n",
       "      box-shadow: 0px 1px 2px rgba(60, 64, 67, 0.3), 0px 1px 3px 1px rgba(60, 64, 67, 0.15);\n",
       "      fill: #174EA6;\n",
       "    }\n",
       "\n",
       "    [theme=dark] .colab-df-convert {\n",
       "      background-color: #3B4455;\n",
       "      fill: #D2E3FC;\n",
       "    }\n",
       "\n",
       "    [theme=dark] .colab-df-convert:hover {\n",
       "      background-color: #434B5C;\n",
       "      box-shadow: 0px 1px 3px 1px rgba(0, 0, 0, 0.15);\n",
       "      filter: drop-shadow(0px 1px 2px rgba(0, 0, 0, 0.3));\n",
       "      fill: #FFFFFF;\n",
       "    }\n",
       "  </style>\n",
       "\n",
       "      <script>\n",
       "        const buttonEl =\n",
       "          document.querySelector('#df-451ee521-d5eb-4a4a-ac83-7fdc88b7008e button.colab-df-convert');\n",
       "        buttonEl.style.display =\n",
       "          google.colab.kernel.accessAllowed ? 'block' : 'none';\n",
       "\n",
       "        async function convertToInteractive(key) {\n",
       "          const element = document.querySelector('#df-451ee521-d5eb-4a4a-ac83-7fdc88b7008e');\n",
       "          const dataTable =\n",
       "            await google.colab.kernel.invokeFunction('convertToInteractive',\n",
       "                                                     [key], {});\n",
       "          if (!dataTable) return;\n",
       "\n",
       "          const docLinkHtml = 'Like what you see? Visit the ' +\n",
       "            '<a target=\"_blank\" href=https://colab.research.google.com/notebooks/data_table.ipynb>data table notebook</a>'\n",
       "            + ' to learn more about interactive tables.';\n",
       "          element.innerHTML = '';\n",
       "          dataTable['output_type'] = 'display_data';\n",
       "          await google.colab.output.renderOutput(dataTable, element);\n",
       "          const docLink = document.createElement('div');\n",
       "          docLink.innerHTML = docLinkHtml;\n",
       "          element.appendChild(docLink);\n",
       "        }\n",
       "      </script>\n",
       "    </div>\n",
       "  </div>\n",
       "  "
      ],
      "text/plain": [
       "                      Predicted                    True\n",
       "31336           Neural_Networks         Neural_Networks\n",
       "1061127           Rule_Learning           Rule_Learning\n",
       "1106406  Reinforcement_Learning  Reinforcement_Learning\n",
       "13195    Reinforcement_Learning  Reinforcement_Learning\n",
       "37879     Probabilistic_Methods   Probabilistic_Methods\n",
       "1126012  Reinforcement_Learning   Probabilistic_Methods\n",
       "1107140  Reinforcement_Learning                  Theory\n",
       "1102850         Neural_Networks         Neural_Networks\n",
       "31349           Neural_Networks         Neural_Networks\n",
       "1106418                  Theory                  Theory\n",
       "1123188         Neural_Networks         Neural_Networks\n",
       "1128990                  Theory      Genetic_Algorithms\n",
       "109323    Probabilistic_Methods   Probabilistic_Methods\n",
       "217139               Case_Based              Case_Based\n",
       "31353           Neural_Networks         Neural_Networks\n",
       "32083           Neural_Networks         Neural_Networks\n",
       "1126029  Reinforcement_Learning  Reinforcement_Learning\n",
       "1118017         Neural_Networks         Neural_Networks\n",
       "49482           Neural_Networks         Neural_Networks\n",
       "753265          Neural_Networks         Neural_Networks"
      ]
     },
     "execution_count": 137,
     "metadata": {},
     "output_type": "execute_result"
    }
   ],
   "source": [
    "df = pd.DataFrame({\"Predicted\": node_predictions, \"True\": unique_labels})\n",
    "df.head(20)"
   ]
  },
  {
   "cell_type": "code",
   "execution_count": 138,
   "metadata": {
    "id": "Eb6rlpS-LIZz"
   },
   "outputs": [],
   "source": [
    "embedding_model = Model(inputs=x_inp, outputs=x_out)"
   ]
  },
  {
   "cell_type": "code",
   "execution_count": 139,
   "metadata": {
    "colab": {
     "base_uri": "https://localhost:8080/"
    },
    "id": "XwAyTCEuLKGf",
    "outputId": "e9111fee-4b7b-4c77-f215-fd80bf450f19"
   },
   "outputs": [
    {
     "data": {
      "text/plain": [
       "(1, 2708, 16)"
      ]
     },
     "execution_count": 139,
     "metadata": {},
     "output_type": "execute_result"
    }
   ],
   "source": [
    "emb = embedding_model.predict(all_gen)\n",
    "emb.shape"
   ]
  },
  {
   "cell_type": "code",
   "execution_count": 140,
   "metadata": {
    "id": "FQkrPoTGLTQh"
   },
   "outputs": [],
   "source": [
    "from sklearn.decomposition import PCA\n",
    "from sklearn.manifold import TSNE\n",
    "\n",
    "transform = TSNE"
   ]
  },
  {
   "cell_type": "code",
   "execution_count": 141,
   "metadata": {
    "colab": {
     "base_uri": "https://localhost:8080/"
    },
    "id": "_P5LWCWqLYOq",
    "outputId": "57985e20-1670-4453-fbe7-6260042ecebc"
   },
   "outputs": [
    {
     "data": {
      "text/plain": [
       "(2708, 16)"
      ]
     },
     "execution_count": 141,
     "metadata": {},
     "output_type": "execute_result"
    }
   ],
   "source": [
    "X = emb.squeeze(0)\n",
    "X.shape"
   ]
  },
  {
   "cell_type": "code",
   "execution_count": 142,
   "metadata": {
    "colab": {
     "base_uri": "https://localhost:8080/"
    },
    "id": "igHroB50Lb80",
    "outputId": "660b7990-ecdc-4375-c610-a7087061643b"
   },
   "outputs": [
    {
     "name": "stderr",
     "output_type": "stream",
     "text": [
      "/usr/local/lib/python3.7/dist-packages/sklearn/manifold/_t_sne.py:783: FutureWarning: The default initialization in TSNE will change from 'random' to 'pca' in 1.2.\n",
      "  FutureWarning,\n",
      "/usr/local/lib/python3.7/dist-packages/sklearn/manifold/_t_sne.py:793: FutureWarning: The default learning rate in TSNE will change from 200.0 to 'auto' in 1.2.\n",
      "  FutureWarning,\n"
     ]
    },
    {
     "data": {
      "text/plain": [
       "(2708, 2)"
      ]
     },
     "execution_count": 142,
     "metadata": {},
     "output_type": "execute_result"
    }
   ],
   "source": [
    "trans = transform(n_components=2)\n",
    "X_reduced = trans.fit_transform(X)\n",
    "X_reduced.shape"
   ]
  },
  {
   "cell_type": "code",
   "execution_count": 143,
   "metadata": {
    "colab": {
     "base_uri": "https://localhost:8080/",
     "height": 466
    },
    "id": "j6f6u2BINCcc",
    "outputId": "8cc6a18b-0054-488a-91b6-f86212c01ac4"
   },
   "outputs": [
    {
     "data": {
      "text/plain": [
       "[Text(0, 0.5, '$X_2$'),\n",
       " Text(0.5, 0, '$X_1$'),\n",
       " Text(0.5, 1.0, 'TSNE visualization of GCN embeddings for cora dataset'),\n",
       " None]"
      ]
     },
     "execution_count": 143,
     "metadata": {},
     "output_type": "execute_result"
    },
    {
     "data": {
      "image/png": "[encoded data removed]",
      "text/plain": [
       "<Figure size 504x504 with 1 Axes>"
      ]
     },
     "metadata": {
      "needs_background": "light"
     },
     "output_type": "display_data"
    }
   ],
   "source": [
    "fig, ax = plt.subplots(figsize=(7, 7))\n",
    "ax.scatter(\n",
    "    X_reduced[:, 0],\n",
    "    X_reduced[:, 1],\n",
    "    c=node_subjects.astype(\"category\").cat.codes,\n",
    "    cmap=\"jet\",\n",
    "    alpha=0.7,\n",
    ")\n",
    "ax.set(\n",
    "    aspect=\"equal\",\n",
    "    xlabel=\"$X_1$\",\n",
    "    ylabel=\"$X_2$\",\n",
    "    title=f\"{transform.__name__} visualization of GCN embeddings for cora dataset\",\n",
    ")"
   ]
  }
 ],
 "metadata": {
  "colab": {
   "collapsed_sections": [],
   "name": "Node_Classification_GCN.ipynb",
   "provenance": []
  },
  "kernelspec": {
   "display_name": "Python 3 (ipykernel)",
   "language": "python",
   "name": "python3"
  },
  "language_info": {
   "codemirror_mode": {
    "name": "ipython",
    "version": 3
   },
   "file_extension": ".py",
   "mimetype": "text/x-python",
   "name": "python",
   "nbconvert_exporter": "python",
   "pygments_lexer": "ipython3",
   "version": "3.9.7"
  }
 },
 "nbformat": 4,
 "nbformat_minor": 1
}
