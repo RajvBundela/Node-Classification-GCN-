{
  "nbformat": 4,
  "nbformat_minor": 0,
  "metadata": {
    "colab": {
      "name": "Node_Classification_GCN.ipynb",
      "provenance": [],
      "collapsed_sections": []
    },
    "kernelspec": {
      "name": "python3",
      "display_name": "Python 3"
    },
    "language_info": {
      "name": "python"
    }
  },
  "cells": [
    {
      "cell_type": "markdown",
      "source": [
        "About the dataset- The Cora dataset consists of 2708 scientific publications classified into one of seven classe(labels). \n",
        "The citation network consists of 5429 links. Each publication in the dataset is described by a 0/1-valued word vector indicating the absence/presence of the corresponding word from the dictionary. \n",
        "The dictionary consists of 1433 unique words.\n",
        "\n",
        "A document is considered a node.\n",
        "Citation here refers to a link or reference to other node(s).\n",
        "\n",
        "Note: The citation network in the dataset is directed (Document A references document B, but note vice-versa), but for optimizing the training of our model, we'll consider it undirected."
      ],
      "metadata": {
        "id": "IRGZxeMwsYH5"
      }
    },
    {
      "cell_type": "code",
      "execution_count": 1,
      "metadata": {
        "id": "QGlTUfEtrdPD",
        "colab": {
          "base_uri": "https://localhost:8080/"
        },
        "outputId": "3aa8386c-663e-498d-925e-7fa353100f7b"
      },
      "outputs": [
        {
          "output_type": "stream",
          "name": "stdout",
          "text": [
            "\u001b[K     |████████████████████████████████| 435 kB 5.1 MB/s \n",
            "\u001b[K     |████████████████████████████████| 482 kB 45.8 MB/s \n",
            "\u001b[K     |████████████████████████████████| 41 kB 496 kB/s \n",
            "\u001b[?25h  Building wheel for mplleaflet (setup.py) ... \u001b[?25l\u001b[?25hdone\n"
          ]
        }
      ],
      "source": [
        "import sys\n",
        "if 'google.colab' in sys.modules:\n",
        "  %pip install -q stellargraph[demos]==1.2.1"
      ]
    },
    {
      "cell_type": "code",
      "source": [
        "#here we are importing all of the required libraries/functions which will be needed\n",
        "\n",
        "import stellargraph as sg\n",
        "\n",
        "try:\n",
        "    sg.utils.validate_notebook_version(\"1.2.1\")\n",
        "except AttributeError:\n",
        "    raise ValueError(\n",
        "        f\"This notebook requires StellarGraph version 1.2.1, but a different version {sg.__version__} is installed.  Please see <https://github.com/stellargraph/stellargraph/issues/1172>.\"\n",
        "    ) from None\n",
        "\n",
        "import pandas as pd\n",
        "import os\n",
        "\n",
        "import stellargraph as sg\n",
        "from stellargraph.mapper import FullBatchNodeGenerator\n",
        "from stellargraph.layer import GCN\n",
        "\n",
        "from tensorflow.keras import layers, optimizers, losses, metrics, Model\n",
        "from sklearn import preprocessing, model_selection\n",
        "from IPython.display import display, HTML\n",
        "import matplotlib.pyplot as plt\n",
        "%matplotlib inline\n"
      ],
      "metadata": {
        "id": "MQ0VCVU6sA3-"
      },
      "execution_count": 2,
      "outputs": []
    },
    {
      "cell_type": "code",
      "source": [
        "dataset = sg.datasets.Cora()\n",
        "graph, unique_labels = dataset.load()"
      ],
      "metadata": {
        "id": "SDRPLni2uxmo"
      },
      "execution_count": 3,
      "outputs": []
    },
    {
      "cell_type": "code",
      "source": [
        "# The info method can help us verify that our loaded graph matches the description or not\n",
        "print(graph.info())"
      ],
      "metadata": {
        "colab": {
          "base_uri": "https://localhost:8080/"
        },
        "id": "0pc--JpnvEw2",
        "outputId": "cdace454-0c4b-48cf-b488-d8cf3347f517"
      },
      "execution_count": null,
      "outputs": [
        {
          "output_type": "stream",
          "name": "stdout",
          "text": [
            "StellarGraph: Undirected multigraph\n",
            " Nodes: 2708, Edges: 5429\n",
            "\n",
            " Node types:\n",
            "  paper: [2708]\n",
            "    Features: float32 vector, length 1433\n",
            "    Edge types: paper-cites->paper\n",
            "\n",
            " Edge types:\n",
            "    paper-cites->paper: [5429]\n",
            "        Weights: all 1 (default)\n",
            "        Features: none\n"
          ]
        }
      ]
    },
    {
      "cell_type": "code",
      "source": [
        "# the model we're buildig will predict the \"unique label\" for an unlabeled node of the dataset.\n",
        "# here we have 7 unique labels and every document will belong to exactly one of them.\n",
        "unique_labels.value_counts().to_frame()"
      ],
      "metadata": {
        "colab": {
          "base_uri": "https://localhost:8080/",
          "height": 269
        },
        "id": "0XXQ7d6xvs43",
        "outputId": "6122720d-d038-4eb6-894a-df40e593755f"
      },
      "execution_count": 4,
      "outputs": [
        {
          "output_type": "execute_result",
          "data": {
            "text/plain": [
              "                        subject\n",
              "Neural_Networks             818\n",
              "Probabilistic_Methods       426\n",
              "Genetic_Algorithms          418\n",
              "Theory                      351\n",
              "Case_Based                  298\n",
              "Reinforcement_Learning      217\n",
              "Rule_Learning               180"
            ],
            "text/html": [
              "\n",
              "  <div id=\"df-6aed5f6b-d698-441d-a6de-fd9a9700561a\">\n",
              "    <div class=\"colab-df-container\">\n",
              "      <div>\n",
              "<style scoped>\n",
              "    .dataframe tbody tr th:only-of-type {\n",
              "        vertical-align: middle;\n",
              "    }\n",
              "\n",
              "    .dataframe tbody tr th {\n",
              "        vertical-align: top;\n",
              "    }\n",
              "\n",
              "    .dataframe thead th {\n",
              "        text-align: right;\n",
              "    }\n",
              "</style>\n",
              "<table border=\"1\" class=\"dataframe\">\n",
              "  <thead>\n",
              "    <tr style=\"text-align: right;\">\n",
              "      <th></th>\n",
              "      <th>subject</th>\n",
              "    </tr>\n",
              "  </thead>\n",
              "  <tbody>\n",
              "    <tr>\n",
              "      <th>Neural_Networks</th>\n",
              "      <td>818</td>\n",
              "    </tr>\n",
              "    <tr>\n",
              "      <th>Probabilistic_Methods</th>\n",
              "      <td>426</td>\n",
              "    </tr>\n",
              "    <tr>\n",
              "      <th>Genetic_Algorithms</th>\n",
              "      <td>418</td>\n",
              "    </tr>\n",
              "    <tr>\n",
              "      <th>Theory</th>\n",
              "      <td>351</td>\n",
              "    </tr>\n",
              "    <tr>\n",
              "      <th>Case_Based</th>\n",
              "      <td>298</td>\n",
              "    </tr>\n",
              "    <tr>\n",
              "      <th>Reinforcement_Learning</th>\n",
              "      <td>217</td>\n",
              "    </tr>\n",
              "    <tr>\n",
              "      <th>Rule_Learning</th>\n",
              "      <td>180</td>\n",
              "    </tr>\n",
              "  </tbody>\n",
              "</table>\n",
              "</div>\n",
              "      <button class=\"colab-df-convert\" onclick=\"convertToInteractive('df-6aed5f6b-d698-441d-a6de-fd9a9700561a')\"\n",
              "              title=\"Convert this dataframe to an interactive table.\"\n",
              "              style=\"display:none;\">\n",
              "        \n",
              "  <svg xmlns=\"http://www.w3.org/2000/svg\" height=\"24px\"viewBox=\"0 0 24 24\"\n",
              "       width=\"24px\">\n",
              "    <path d=\"M0 0h24v24H0V0z\" fill=\"none\"/>\n",
              "    <path d=\"M18.56 5.44l.94 2.06.94-2.06 2.06-.94-2.06-.94-.94-2.06-.94 2.06-2.06.94zm-11 1L8.5 8.5l.94-2.06 2.06-.94-2.06-.94L8.5 2.5l-.94 2.06-2.06.94zm10 10l.94 2.06.94-2.06 2.06-.94-2.06-.94-.94-2.06-.94 2.06-2.06.94z\"/><path d=\"M17.41 7.96l-1.37-1.37c-.4-.4-.92-.59-1.43-.59-.52 0-1.04.2-1.43.59L10.3 9.45l-7.72 7.72c-.78.78-.78 2.05 0 2.83L4 21.41c.39.39.9.59 1.41.59.51 0 1.02-.2 1.41-.59l7.78-7.78 2.81-2.81c.8-.78.8-2.07 0-2.86zM5.41 20L4 18.59l7.72-7.72 1.47 1.35L5.41 20z\"/>\n",
              "  </svg>\n",
              "      </button>\n",
              "      \n",
              "  <style>\n",
              "    .colab-df-container {\n",
              "      display:flex;\n",
              "      flex-wrap:wrap;\n",
              "      gap: 12px;\n",
              "    }\n",
              "\n",
              "    .colab-df-convert {\n",
              "      background-color: #E8F0FE;\n",
              "      border: none;\n",
              "      border-radius: 50%;\n",
              "      cursor: pointer;\n",
              "      display: none;\n",
              "      fill: #1967D2;\n",
              "      height: 32px;\n",
              "      padding: 0 0 0 0;\n",
              "      width: 32px;\n",
              "    }\n",
              "\n",
              "    .colab-df-convert:hover {\n",
              "      background-color: #E2EBFA;\n",
              "      box-shadow: 0px 1px 2px rgba(60, 64, 67, 0.3), 0px 1px 3px 1px rgba(60, 64, 67, 0.15);\n",
              "      fill: #174EA6;\n",
              "    }\n",
              "\n",
              "    [theme=dark] .colab-df-convert {\n",
              "      background-color: #3B4455;\n",
              "      fill: #D2E3FC;\n",
              "    }\n",
              "\n",
              "    [theme=dark] .colab-df-convert:hover {\n",
              "      background-color: #434B5C;\n",
              "      box-shadow: 0px 1px 3px 1px rgba(0, 0, 0, 0.15);\n",
              "      filter: drop-shadow(0px 1px 2px rgba(0, 0, 0, 0.3));\n",
              "      fill: #FFFFFF;\n",
              "    }\n",
              "  </style>\n",
              "\n",
              "      <script>\n",
              "        const buttonEl =\n",
              "          document.querySelector('#df-6aed5f6b-d698-441d-a6de-fd9a9700561a button.colab-df-convert');\n",
              "        buttonEl.style.display =\n",
              "          google.colab.kernel.accessAllowed ? 'block' : 'none';\n",
              "\n",
              "        async function convertToInteractive(key) {\n",
              "          const element = document.querySelector('#df-6aed5f6b-d698-441d-a6de-fd9a9700561a');\n",
              "          const dataTable =\n",
              "            await google.colab.kernel.invokeFunction('convertToInteractive',\n",
              "                                                     [key], {});\n",
              "          if (!dataTable) return;\n",
              "\n",
              "          const docLinkHtml = 'Like what you see? Visit the ' +\n",
              "            '<a target=\"_blank\" href=https://colab.research.google.com/notebooks/data_table.ipynb>data table notebook</a>'\n",
              "            + ' to learn more about interactive tables.';\n",
              "          element.innerHTML = '';\n",
              "          dataTable['output_type'] = 'display_data';\n",
              "          await google.colab.output.renderOutput(dataTable, element);\n",
              "          const docLink = document.createElement('div');\n",
              "          docLink.innerHTML = docLinkHtml;\n",
              "          element.appendChild(docLink);\n",
              "        }\n",
              "      </script>\n",
              "    </div>\n",
              "  </div>\n",
              "  "
            ]
          },
          "metadata": {},
          "execution_count": 4
        }
      ]
    },
    {
      "cell_type": "markdown",
      "source": [
        "Here we will spilit our dataset into 3 parts:\n",
        "1) Training sample,\n",
        "2) Validation sample,\n",
        "3) Testing Sample"
      ],
      "metadata": {
        "id": "taKWSiyX1HkS"
      }
    },
    {
      "cell_type": "code",
      "source": [
        "# for training sample we are taking 200 node labels\n",
        "train_set, test_set = model_selection.train_test_split(\n",
        "    unique_labels, train_size=250, test_size=None, stratify=unique_labels\n",
        ")\n",
        "\n",
        "# for validation sample we are taking 300 node labels\n",
        "val_set, test_set = model_selection.train_test_split(\n",
        "    test_set, train_size=250, test_size=None, stratify=test_set\n",
        ")\n",
        "\n",
        "# all the remaining labels are left for testing sample."
      ],
      "metadata": {
        "id": "A09RP8JQOXOU"
      },
      "execution_count": 47,
      "outputs": []
    },
    {
      "cell_type": "code",
      "source": [
        "# here are the labels and number of nodes for each label that we have taken in our training sample\n",
        "train_set.value_counts().to_frame()"
      ],
      "metadata": {
        "colab": {
          "base_uri": "https://localhost:8080/",
          "height": 269
        },
        "id": "OSg7rRklxvoo",
        "outputId": "7ae7f16c-2f47-489b-840f-005998a81706"
      },
      "execution_count": 48,
      "outputs": [
        {
          "output_type": "execute_result",
          "data": {
            "text/plain": [
              "                        subject\n",
              "Neural_Networks              76\n",
              "Genetic_Algorithms           39\n",
              "Probabilistic_Methods        39\n",
              "Theory                       32\n",
              "Case_Based                   27\n",
              "Reinforcement_Learning       20\n",
              "Rule_Learning                17"
            ],
            "text/html": [
              "\n",
              "  <div id=\"df-1bd6dccc-24ad-45e8-b1d2-d2cb7e881ad0\">\n",
              "    <div class=\"colab-df-container\">\n",
              "      <div>\n",
              "<style scoped>\n",
              "    .dataframe tbody tr th:only-of-type {\n",
              "        vertical-align: middle;\n",
              "    }\n",
              "\n",
              "    .dataframe tbody tr th {\n",
              "        vertical-align: top;\n",
              "    }\n",
              "\n",
              "    .dataframe thead th {\n",
              "        text-align: right;\n",
              "    }\n",
              "</style>\n",
              "<table border=\"1\" class=\"dataframe\">\n",
              "  <thead>\n",
              "    <tr style=\"text-align: right;\">\n",
              "      <th></th>\n",
              "      <th>subject</th>\n",
              "    </tr>\n",
              "  </thead>\n",
              "  <tbody>\n",
              "    <tr>\n",
              "      <th>Neural_Networks</th>\n",
              "      <td>76</td>\n",
              "    </tr>\n",
              "    <tr>\n",
              "      <th>Genetic_Algorithms</th>\n",
              "      <td>39</td>\n",
              "    </tr>\n",
              "    <tr>\n",
              "      <th>Probabilistic_Methods</th>\n",
              "      <td>39</td>\n",
              "    </tr>\n",
              "    <tr>\n",
              "      <th>Theory</th>\n",
              "      <td>32</td>\n",
              "    </tr>\n",
              "    <tr>\n",
              "      <th>Case_Based</th>\n",
              "      <td>27</td>\n",
              "    </tr>\n",
              "    <tr>\n",
              "      <th>Reinforcement_Learning</th>\n",
              "      <td>20</td>\n",
              "    </tr>\n",
              "    <tr>\n",
              "      <th>Rule_Learning</th>\n",
              "      <td>17</td>\n",
              "    </tr>\n",
              "  </tbody>\n",
              "</table>\n",
              "</div>\n",
              "      <button class=\"colab-df-convert\" onclick=\"convertToInteractive('df-1bd6dccc-24ad-45e8-b1d2-d2cb7e881ad0')\"\n",
              "              title=\"Convert this dataframe to an interactive table.\"\n",
              "              style=\"display:none;\">\n",
              "        \n",
              "  <svg xmlns=\"http://www.w3.org/2000/svg\" height=\"24px\"viewBox=\"0 0 24 24\"\n",
              "       width=\"24px\">\n",
              "    <path d=\"M0 0h24v24H0V0z\" fill=\"none\"/>\n",
              "    <path d=\"M18.56 5.44l.94 2.06.94-2.06 2.06-.94-2.06-.94-.94-2.06-.94 2.06-2.06.94zm-11 1L8.5 8.5l.94-2.06 2.06-.94-2.06-.94L8.5 2.5l-.94 2.06-2.06.94zm10 10l.94 2.06.94-2.06 2.06-.94-2.06-.94-.94-2.06-.94 2.06-2.06.94z\"/><path d=\"M17.41 7.96l-1.37-1.37c-.4-.4-.92-.59-1.43-.59-.52 0-1.04.2-1.43.59L10.3 9.45l-7.72 7.72c-.78.78-.78 2.05 0 2.83L4 21.41c.39.39.9.59 1.41.59.51 0 1.02-.2 1.41-.59l7.78-7.78 2.81-2.81c.8-.78.8-2.07 0-2.86zM5.41 20L4 18.59l7.72-7.72 1.47 1.35L5.41 20z\"/>\n",
              "  </svg>\n",
              "      </button>\n",
              "      \n",
              "  <style>\n",
              "    .colab-df-container {\n",
              "      display:flex;\n",
              "      flex-wrap:wrap;\n",
              "      gap: 12px;\n",
              "    }\n",
              "\n",
              "    .colab-df-convert {\n",
              "      background-color: #E8F0FE;\n",
              "      border: none;\n",
              "      border-radius: 50%;\n",
              "      cursor: pointer;\n",
              "      display: none;\n",
              "      fill: #1967D2;\n",
              "      height: 32px;\n",
              "      padding: 0 0 0 0;\n",
              "      width: 32px;\n",
              "    }\n",
              "\n",
              "    .colab-df-convert:hover {\n",
              "      background-color: #E2EBFA;\n",
              "      box-shadow: 0px 1px 2px rgba(60, 64, 67, 0.3), 0px 1px 3px 1px rgba(60, 64, 67, 0.15);\n",
              "      fill: #174EA6;\n",
              "    }\n",
              "\n",
              "    [theme=dark] .colab-df-convert {\n",
              "      background-color: #3B4455;\n",
              "      fill: #D2E3FC;\n",
              "    }\n",
              "\n",
              "    [theme=dark] .colab-df-convert:hover {\n",
              "      background-color: #434B5C;\n",
              "      box-shadow: 0px 1px 3px 1px rgba(0, 0, 0, 0.15);\n",
              "      filter: drop-shadow(0px 1px 2px rgba(0, 0, 0, 0.3));\n",
              "      fill: #FFFFFF;\n",
              "    }\n",
              "  </style>\n",
              "\n",
              "      <script>\n",
              "        const buttonEl =\n",
              "          document.querySelector('#df-1bd6dccc-24ad-45e8-b1d2-d2cb7e881ad0 button.colab-df-convert');\n",
              "        buttonEl.style.display =\n",
              "          google.colab.kernel.accessAllowed ? 'block' : 'none';\n",
              "\n",
              "        async function convertToInteractive(key) {\n",
              "          const element = document.querySelector('#df-1bd6dccc-24ad-45e8-b1d2-d2cb7e881ad0');\n",
              "          const dataTable =\n",
              "            await google.colab.kernel.invokeFunction('convertToInteractive',\n",
              "                                                     [key], {});\n",
              "          if (!dataTable) return;\n",
              "\n",
              "          const docLinkHtml = 'Like what you see? Visit the ' +\n",
              "            '<a target=\"_blank\" href=https://colab.research.google.com/notebooks/data_table.ipynb>data table notebook</a>'\n",
              "            + ' to learn more about interactive tables.';\n",
              "          element.innerHTML = '';\n",
              "          dataTable['output_type'] = 'display_data';\n",
              "          await google.colab.output.renderOutput(dataTable, element);\n",
              "          const docLink = document.createElement('div');\n",
              "          docLink.innerHTML = docLinkHtml;\n",
              "          element.appendChild(docLink);\n",
              "        }\n",
              "      </script>\n",
              "    </div>\n",
              "  </div>\n",
              "  "
            ]
          },
          "metadata": {},
          "execution_count": 48
        }
      ]
    },
    {
      "cell_type": "code",
      "source": [
        "# to get our categorical/class wise target, we will use one-hot vectors that will be compared against the model’s soft-max output. \n",
        "# this conversion we are doing with the help of LabelBinarizer transform (\"docs\") from scikit-learn\n",
        "\n",
        "target_encoding = preprocessing.LabelBinarizer()\n",
        "train_target = target_encoding.fit_transform(train_set) #encoding train sample\n",
        "val_targets = target_encoding.transform(val_set)  #encoding validation sample\n",
        "test_target = target_encoding.transform(test_set) #encoding test sample"
      ],
      "metadata": {
        "id": "mhDDxKOEx5kA"
      },
      "execution_count": 49,
      "outputs": []
    },
    {
      "cell_type": "code",
      "source": [
        "# a data generator to convert the core graph structure and node features \n",
        "# into a format that can be fed into the Keras model for training or prediction\n",
        "generator = FullBatchNodeGenerator(graph, method=\"gcn\") #stellargraph has many genetators so we specify the method to \"gcn\"."
      ],
      "metadata": {
        "colab": {
          "base_uri": "https://localhost:8080/"
        },
        "id": "xj6Br5WC9UrY",
        "outputId": "3231128c-8f89-4335-97ca-c36d97cae2e6"
      },
      "execution_count": 50,
      "outputs": [
        {
          "output_type": "stream",
          "name": "stdout",
          "text": [
            "Using GCN (local pooling) filters...\n"
          ]
        }
      ]
    },
    {
      "cell_type": "markdown",
      "source": [
        "A generator just encodes the information required to produce the model inputs. Calling the flow method (\"docs\") with a set of nodes and their true labels produces an object that can be used to train the model, on those nodes and labels that were specified. Since we have created a training set above that’s what we’re going to use below for training."
      ],
      "metadata": {
        "id": "Aj1sV_2D6xCj"
      }
    },
    {
      "cell_type": "code",
      "source": [
        "train_gen = generator.flow(train_set.index, train_target)"
      ],
      "metadata": {
        "id": "YJSKeh4_CjrU"
      },
      "execution_count": 51,
      "outputs": []
    },
    {
      "cell_type": "code",
      "source": [
        "# 3 layers were not optimal as during the back propagation, the backpropagated errors were almost dimnished\n",
        "# 1 layers wasn't consitent and had fluctuating accuracy.\n",
        "gcn = GCN(\n",
        "    layer_sizes=[20, 20], activations=[\"relu\", \"relu\"], generator=generator, dropout=0.5\n",
        ")\n",
        "# here we are modelling the layers, there are 2 layers both having 16 units each.\n",
        "# each layer's output has been given to \"ReLU\" activation function.\n",
        "# the dropout rate is 0.5 so an equal fraction of neurons will be shut and rest will get their values multiplied to get the same sum."
      ],
      "metadata": {
        "id": "NGC11MHTC_Sa"
      },
      "execution_count": 64,
      "outputs": []
    },
    {
      "cell_type": "code",
      "source": [
        "# To create a Keras model we now expose the input and output tensors (multi-dimensional vectors) of the GCN model for node prediction, via the GCN.in_out_tensors method: \n",
        "x_inp, x_out = gcn.in_out_tensors()\n",
        "\n",
        "x_out # it is a TensorFlow tensor which is a 20 dimensional vector.\n",
        "# The actual predictions of each node’s class/label needs to be computed from this vector."
      ],
      "metadata": {
        "colab": {
          "base_uri": "https://localhost:8080/"
        },
        "id": "VDfGIfhmF9oJ",
        "outputId": "53bd8a62-f9d8-4075-bc00-9343e7cbb755"
      },
      "execution_count": 65,
      "outputs": [
        {
          "output_type": "execute_result",
          "data": {
            "text/plain": [
              "<KerasTensor: shape=(1, None, 20) dtype=float32 (created by layer 'gather_indices_6')>"
            ]
          },
          "metadata": {},
          "execution_count": 65
        }
      ]
    },
    {
      "cell_type": "code",
      "source": [
        "# For prediction we are taking an additional dense layer (with one unit per class) using a softmax activation. \n",
        "# This activation function ensures that the final outputs for each input node will be a vector of “probabilities”, \n",
        "# where every value is between 0 and 1, and the whole vector sums to 1. The predicted class is the element with the highest value.\n",
        "print(train_target.shape[1])\n",
        "\n",
        "predictions = layers.Dense(units=train_target.shape[1], activation=\"softmax\")(x_out)"
      ],
      "metadata": {
        "id": "WgyulvaAGVKJ",
        "colab": {
          "base_uri": "https://localhost:8080/"
        },
        "outputId": "32ff9484-b348-4c75-ed17-9723f3120376"
      },
      "execution_count": 66,
      "outputs": [
        {
          "output_type": "stream",
          "name": "stdout",
          "text": [
            "7\n"
          ]
        }
      ]
    },
    {
      "cell_type": "code",
      "source": [
        "model = Model(inputs=x_inp, outputs=predictions)\n",
        "model.compile(\n",
        "    optimizer=optimizers.Adam(lr=0.01),\n",
        "    loss=losses.categorical_crossentropy, # since we are doing categorical calssification, using categorical_crossentropy is apt\n",
        "    metrics=[\"acc\"],\n",
        ")"
      ],
      "metadata": {
        "colab": {
          "base_uri": "https://localhost:8080/"
        },
        "id": "QZTeGX7JGgtu",
        "outputId": "0107e5ff-9e78-475c-fc87-e1e3cd3d8314"
      },
      "execution_count": 67,
      "outputs": [
        {
          "output_type": "stream",
          "name": "stderr",
          "text": [
            "/usr/local/lib/python3.7/dist-packages/keras/optimizer_v2/adam.py:105: UserWarning: The `lr` argument is deprecated, use `learning_rate` instead.\n",
            "  super(Adam, self).__init__(name, **kwargs)\n"
          ]
        }
      ]
    },
    {
      "cell_type": "code",
      "source": [
        "# to also keep track of its generalisation performance on the validation set\n",
        "# which means creating another data generator, using our FullBatchNodeGenerator\n",
        "val_gen = generator.flow(val_set.index, val_targets)"
      ],
      "metadata": {
        "id": "465gjn-7GoLD"
      },
      "execution_count": 68,
      "outputs": []
    },
    {
      "cell_type": "code",
      "source": [
        "from tensorflow.keras.callbacks import EarlyStopping\n",
        "\n",
        "es_callback = EarlyStopping(monitor=\"val_acc\", patience=50, restore_best_weights=True)\n",
        "# if our validation accuracy stops improving, we will use early stopping, it stops after 50 epochs (patience) give no improvement consecutively. "
      ],
      "metadata": {
        "id": "00-WTpKRGw1Q"
      },
      "execution_count": 69,
      "outputs": []
    },
    {
      "cell_type": "code",
      "source": [
        "# using the keras .fit method, we are training our model\n",
        "history = model.fit(\n",
        "    train_gen,\n",
        "    epochs=500,\n",
        "    validation_data=val_gen,\n",
        "    verbose=2,\n",
        "    shuffle=False,  # this should be False, since shuffling data means shuffling the whole graph\n",
        "    callbacks=[es_callback],\n",
        ")"
      ],
      "metadata": {
        "colab": {
          "base_uri": "https://localhost:8080/"
        },
        "id": "5_AKNb6PG3hV",
        "outputId": "12d7af48-3b56-4751-d5f2-d54f21e9ccc3"
      },
      "execution_count": 70,
      "outputs": [
        {
          "output_type": "stream",
          "name": "stdout",
          "text": [
            "Epoch 1/500\n",
            "1/1 - 1s - loss: 1.9513 - acc: 0.1280 - val_loss: 1.9087 - val_acc: 0.3120 - 1s/epoch - 1s/step\n",
            "Epoch 2/500\n",
            "1/1 - 0s - loss: 1.9029 - acc: 0.3240 - val_loss: 1.8624 - val_acc: 0.3080 - 150ms/epoch - 150ms/step\n",
            "Epoch 3/500\n",
            "1/1 - 0s - loss: 1.8500 - acc: 0.3360 - val_loss: 1.8002 - val_acc: 0.3120 - 148ms/epoch - 148ms/step\n",
            "Epoch 4/500\n",
            "1/1 - 0s - loss: 1.7780 - acc: 0.3280 - val_loss: 1.7206 - val_acc: 0.3200 - 158ms/epoch - 158ms/step\n",
            "Epoch 5/500\n",
            "1/1 - 0s - loss: 1.6972 - acc: 0.3640 - val_loss: 1.6340 - val_acc: 0.3480 - 152ms/epoch - 152ms/step\n",
            "Epoch 6/500\n",
            "1/1 - 0s - loss: 1.5697 - acc: 0.4120 - val_loss: 1.5488 - val_acc: 0.3840 - 147ms/epoch - 147ms/step\n",
            "Epoch 7/500\n",
            "1/1 - 0s - loss: 1.4922 - acc: 0.4040 - val_loss: 1.4657 - val_acc: 0.4480 - 193ms/epoch - 193ms/step\n",
            "Epoch 8/500\n",
            "1/1 - 0s - loss: 1.3790 - acc: 0.4720 - val_loss: 1.3828 - val_acc: 0.4960 - 181ms/epoch - 181ms/step\n",
            "Epoch 9/500\n",
            "1/1 - 0s - loss: 1.2808 - acc: 0.5240 - val_loss: 1.3040 - val_acc: 0.5720 - 181ms/epoch - 181ms/step\n",
            "Epoch 10/500\n",
            "1/1 - 0s - loss: 1.1968 - acc: 0.6000 - val_loss: 1.2277 - val_acc: 0.6120 - 164ms/epoch - 164ms/step\n",
            "Epoch 11/500\n",
            "1/1 - 0s - loss: 1.0807 - acc: 0.6560 - val_loss: 1.1526 - val_acc: 0.6600 - 150ms/epoch - 150ms/step\n",
            "Epoch 12/500\n",
            "1/1 - 0s - loss: 0.9795 - acc: 0.7200 - val_loss: 1.0786 - val_acc: 0.6760 - 146ms/epoch - 146ms/step\n",
            "Epoch 13/500\n",
            "1/1 - 0s - loss: 0.9110 - acc: 0.7600 - val_loss: 1.0083 - val_acc: 0.6720 - 144ms/epoch - 144ms/step\n",
            "Epoch 14/500\n",
            "1/1 - 0s - loss: 0.8018 - acc: 0.7760 - val_loss: 0.9448 - val_acc: 0.7040 - 164ms/epoch - 164ms/step\n",
            "Epoch 15/500\n",
            "1/1 - 0s - loss: 0.7559 - acc: 0.7840 - val_loss: 0.8929 - val_acc: 0.7000 - 148ms/epoch - 148ms/step\n",
            "Epoch 16/500\n",
            "1/1 - 0s - loss: 0.6684 - acc: 0.8200 - val_loss: 0.8492 - val_acc: 0.7240 - 147ms/epoch - 147ms/step\n",
            "Epoch 17/500\n",
            "1/1 - 0s - loss: 0.5842 - acc: 0.8200 - val_loss: 0.8131 - val_acc: 0.7400 - 152ms/epoch - 152ms/step\n",
            "Epoch 18/500\n",
            "1/1 - 0s - loss: 0.5281 - acc: 0.8760 - val_loss: 0.7869 - val_acc: 0.7520 - 143ms/epoch - 143ms/step\n",
            "Epoch 19/500\n",
            "1/1 - 0s - loss: 0.4947 - acc: 0.8760 - val_loss: 0.7497 - val_acc: 0.7800 - 151ms/epoch - 151ms/step\n",
            "Epoch 20/500\n",
            "1/1 - 0s - loss: 0.4355 - acc: 0.9040 - val_loss: 0.7106 - val_acc: 0.7960 - 142ms/epoch - 142ms/step\n",
            "Epoch 21/500\n",
            "1/1 - 0s - loss: 0.3848 - acc: 0.8960 - val_loss: 0.6795 - val_acc: 0.8320 - 149ms/epoch - 149ms/step\n",
            "Epoch 22/500\n",
            "1/1 - 0s - loss: 0.2872 - acc: 0.9320 - val_loss: 0.6555 - val_acc: 0.8360 - 144ms/epoch - 144ms/step\n",
            "Epoch 23/500\n",
            "1/1 - 0s - loss: 0.3174 - acc: 0.9040 - val_loss: 0.6405 - val_acc: 0.8400 - 149ms/epoch - 149ms/step\n",
            "Epoch 24/500\n",
            "1/1 - 0s - loss: 0.2836 - acc: 0.9280 - val_loss: 0.6363 - val_acc: 0.8360 - 141ms/epoch - 141ms/step\n",
            "Epoch 25/500\n",
            "1/1 - 0s - loss: 0.2493 - acc: 0.9440 - val_loss: 0.6392 - val_acc: 0.8360 - 156ms/epoch - 156ms/step\n",
            "Epoch 26/500\n",
            "1/1 - 0s - loss: 0.2181 - acc: 0.9480 - val_loss: 0.6490 - val_acc: 0.8320 - 136ms/epoch - 136ms/step\n",
            "Epoch 27/500\n",
            "1/1 - 0s - loss: 0.1944 - acc: 0.9560 - val_loss: 0.6612 - val_acc: 0.8360 - 148ms/epoch - 148ms/step\n",
            "Epoch 28/500\n",
            "1/1 - 0s - loss: 0.2032 - acc: 0.9400 - val_loss: 0.6721 - val_acc: 0.8280 - 143ms/epoch - 143ms/step\n",
            "Epoch 29/500\n",
            "1/1 - 0s - loss: 0.1997 - acc: 0.9360 - val_loss: 0.6682 - val_acc: 0.8320 - 141ms/epoch - 141ms/step\n",
            "Epoch 30/500\n",
            "1/1 - 0s - loss: 0.1460 - acc: 0.9520 - val_loss: 0.6701 - val_acc: 0.8440 - 142ms/epoch - 142ms/step\n",
            "Epoch 31/500\n",
            "1/1 - 0s - loss: 0.1342 - acc: 0.9520 - val_loss: 0.6773 - val_acc: 0.8400 - 156ms/epoch - 156ms/step\n",
            "Epoch 32/500\n",
            "1/1 - 0s - loss: 0.1465 - acc: 0.9520 - val_loss: 0.6824 - val_acc: 0.8320 - 146ms/epoch - 146ms/step\n",
            "Epoch 33/500\n",
            "1/1 - 0s - loss: 0.1434 - acc: 0.9560 - val_loss: 0.6929 - val_acc: 0.8320 - 144ms/epoch - 144ms/step\n",
            "Epoch 34/500\n",
            "1/1 - 0s - loss: 0.1149 - acc: 0.9680 - val_loss: 0.6999 - val_acc: 0.8320 - 140ms/epoch - 140ms/step\n",
            "Epoch 35/500\n",
            "1/1 - 0s - loss: 0.1298 - acc: 0.9560 - val_loss: 0.7154 - val_acc: 0.8360 - 145ms/epoch - 145ms/step\n",
            "Epoch 36/500\n",
            "1/1 - 0s - loss: 0.0862 - acc: 0.9840 - val_loss: 0.7349 - val_acc: 0.8320 - 146ms/epoch - 146ms/step\n",
            "Epoch 37/500\n",
            "1/1 - 0s - loss: 0.1086 - acc: 0.9720 - val_loss: 0.7543 - val_acc: 0.8280 - 154ms/epoch - 154ms/step\n",
            "Epoch 38/500\n",
            "1/1 - 0s - loss: 0.0974 - acc: 0.9680 - val_loss: 0.7679 - val_acc: 0.8280 - 176ms/epoch - 176ms/step\n",
            "Epoch 39/500\n",
            "1/1 - 0s - loss: 0.0822 - acc: 0.9760 - val_loss: 0.7740 - val_acc: 0.8160 - 148ms/epoch - 148ms/step\n",
            "Epoch 40/500\n",
            "1/1 - 0s - loss: 0.0672 - acc: 0.9920 - val_loss: 0.7787 - val_acc: 0.8240 - 152ms/epoch - 152ms/step\n",
            "Epoch 41/500\n",
            "1/1 - 0s - loss: 0.0669 - acc: 0.9800 - val_loss: 0.7921 - val_acc: 0.8240 - 151ms/epoch - 151ms/step\n",
            "Epoch 42/500\n",
            "1/1 - 0s - loss: 0.0739 - acc: 0.9760 - val_loss: 0.8050 - val_acc: 0.8240 - 148ms/epoch - 148ms/step\n",
            "Epoch 43/500\n",
            "1/1 - 0s - loss: 0.1147 - acc: 0.9680 - val_loss: 0.8120 - val_acc: 0.8240 - 147ms/epoch - 147ms/step\n",
            "Epoch 44/500\n",
            "1/1 - 0s - loss: 0.0906 - acc: 0.9680 - val_loss: 0.8226 - val_acc: 0.8240 - 152ms/epoch - 152ms/step\n",
            "Epoch 45/500\n",
            "1/1 - 0s - loss: 0.0595 - acc: 0.9720 - val_loss: 0.8289 - val_acc: 0.8280 - 154ms/epoch - 154ms/step\n",
            "Epoch 46/500\n",
            "1/1 - 0s - loss: 0.0548 - acc: 0.9840 - val_loss: 0.8359 - val_acc: 0.8360 - 145ms/epoch - 145ms/step\n",
            "Epoch 47/500\n",
            "1/1 - 0s - loss: 0.0730 - acc: 0.9880 - val_loss: 0.8441 - val_acc: 0.8280 - 142ms/epoch - 142ms/step\n",
            "Epoch 48/500\n",
            "1/1 - 0s - loss: 0.0617 - acc: 0.9800 - val_loss: 0.8548 - val_acc: 0.8280 - 150ms/epoch - 150ms/step\n",
            "Epoch 49/500\n",
            "1/1 - 0s - loss: 0.0729 - acc: 0.9760 - val_loss: 0.8598 - val_acc: 0.8280 - 155ms/epoch - 155ms/step\n",
            "Epoch 50/500\n",
            "1/1 - 0s - loss: 0.0641 - acc: 0.9760 - val_loss: 0.8604 - val_acc: 0.8240 - 177ms/epoch - 177ms/step\n",
            "Epoch 51/500\n",
            "1/1 - 0s - loss: 0.0628 - acc: 0.9840 - val_loss: 0.8599 - val_acc: 0.8200 - 176ms/epoch - 176ms/step\n",
            "Epoch 52/500\n",
            "1/1 - 0s - loss: 0.0939 - acc: 0.9720 - val_loss: 0.8635 - val_acc: 0.8200 - 172ms/epoch - 172ms/step\n",
            "Epoch 53/500\n",
            "1/1 - 0s - loss: 0.0714 - acc: 0.9800 - val_loss: 0.8747 - val_acc: 0.8200 - 193ms/epoch - 193ms/step\n",
            "Epoch 54/500\n",
            "1/1 - 0s - loss: 0.0628 - acc: 0.9840 - val_loss: 0.8839 - val_acc: 0.8200 - 184ms/epoch - 184ms/step\n",
            "Epoch 55/500\n",
            "1/1 - 0s - loss: 0.0561 - acc: 0.9840 - val_loss: 0.8967 - val_acc: 0.8120 - 157ms/epoch - 157ms/step\n",
            "Epoch 56/500\n",
            "1/1 - 0s - loss: 0.0543 - acc: 0.9800 - val_loss: 0.9084 - val_acc: 0.8120 - 187ms/epoch - 187ms/step\n",
            "Epoch 57/500\n",
            "1/1 - 0s - loss: 0.0306 - acc: 0.9920 - val_loss: 0.9187 - val_acc: 0.8080 - 152ms/epoch - 152ms/step\n",
            "Epoch 58/500\n",
            "1/1 - 0s - loss: 0.0574 - acc: 0.9880 - val_loss: 0.9161 - val_acc: 0.8080 - 147ms/epoch - 147ms/step\n",
            "Epoch 59/500\n",
            "1/1 - 0s - loss: 0.0469 - acc: 0.9800 - val_loss: 0.9047 - val_acc: 0.8080 - 146ms/epoch - 146ms/step\n",
            "Epoch 60/500\n",
            "1/1 - 0s - loss: 0.0740 - acc: 0.9760 - val_loss: 0.8929 - val_acc: 0.8120 - 148ms/epoch - 148ms/step\n",
            "Epoch 61/500\n",
            "1/1 - 0s - loss: 0.0922 - acc: 0.9760 - val_loss: 0.8827 - val_acc: 0.8160 - 148ms/epoch - 148ms/step\n",
            "Epoch 62/500\n",
            "1/1 - 0s - loss: 0.0483 - acc: 0.9880 - val_loss: 0.8841 - val_acc: 0.8160 - 150ms/epoch - 150ms/step\n",
            "Epoch 63/500\n",
            "1/1 - 0s - loss: 0.0688 - acc: 0.9720 - val_loss: 0.8873 - val_acc: 0.8080 - 157ms/epoch - 157ms/step\n",
            "Epoch 64/500\n",
            "1/1 - 0s - loss: 0.0525 - acc: 0.9800 - val_loss: 0.8935 - val_acc: 0.8080 - 172ms/epoch - 172ms/step\n",
            "Epoch 65/500\n",
            "1/1 - 0s - loss: 0.0430 - acc: 0.9920 - val_loss: 0.9037 - val_acc: 0.8080 - 171ms/epoch - 171ms/step\n",
            "Epoch 66/500\n",
            "1/1 - 0s - loss: 0.0347 - acc: 0.9880 - val_loss: 0.9177 - val_acc: 0.8120 - 183ms/epoch - 183ms/step\n",
            "Epoch 67/500\n",
            "1/1 - 0s - loss: 0.0462 - acc: 0.9840 - val_loss: 0.9309 - val_acc: 0.8160 - 176ms/epoch - 176ms/step\n",
            "Epoch 68/500\n",
            "1/1 - 0s - loss: 0.0320 - acc: 0.9880 - val_loss: 0.9474 - val_acc: 0.8120 - 172ms/epoch - 172ms/step\n",
            "Epoch 69/500\n",
            "1/1 - 0s - loss: 0.0416 - acc: 0.9920 - val_loss: 0.9635 - val_acc: 0.8080 - 184ms/epoch - 184ms/step\n",
            "Epoch 70/500\n",
            "1/1 - 0s - loss: 0.0332 - acc: 0.9920 - val_loss: 0.9760 - val_acc: 0.8080 - 153ms/epoch - 153ms/step\n",
            "Epoch 71/500\n",
            "1/1 - 0s - loss: 0.0359 - acc: 0.9880 - val_loss: 0.9856 - val_acc: 0.8040 - 145ms/epoch - 145ms/step\n",
            "Epoch 72/500\n",
            "1/1 - 0s - loss: 0.0324 - acc: 0.9920 - val_loss: 0.9989 - val_acc: 0.8040 - 145ms/epoch - 145ms/step\n",
            "Epoch 73/500\n",
            "1/1 - 0s - loss: 0.0578 - acc: 0.9880 - val_loss: 1.0059 - val_acc: 0.8080 - 156ms/epoch - 156ms/step\n",
            "Epoch 74/500\n",
            "1/1 - 0s - loss: 0.0232 - acc: 0.9960 - val_loss: 1.0060 - val_acc: 0.8040 - 145ms/epoch - 145ms/step\n",
            "Epoch 75/500\n",
            "1/1 - 0s - loss: 0.0448 - acc: 0.9800 - val_loss: 1.0049 - val_acc: 0.8000 - 146ms/epoch - 146ms/step\n",
            "Epoch 76/500\n",
            "1/1 - 0s - loss: 0.0165 - acc: 1.0000 - val_loss: 1.0051 - val_acc: 0.8000 - 148ms/epoch - 148ms/step\n",
            "Epoch 77/500\n",
            "1/1 - 0s - loss: 0.0500 - acc: 0.9840 - val_loss: 1.0054 - val_acc: 0.8120 - 143ms/epoch - 143ms/step\n",
            "Epoch 78/500\n",
            "1/1 - 0s - loss: 0.0338 - acc: 0.9920 - val_loss: 1.0016 - val_acc: 0.8120 - 147ms/epoch - 147ms/step\n",
            "Epoch 79/500\n",
            "1/1 - 0s - loss: 0.0517 - acc: 0.9840 - val_loss: 0.9936 - val_acc: 0.8240 - 175ms/epoch - 175ms/step\n",
            "Epoch 80/500\n",
            "1/1 - 0s - loss: 0.0439 - acc: 0.9920 - val_loss: 0.9818 - val_acc: 0.8200 - 180ms/epoch - 180ms/step\n"
          ]
        }
      ]
    },
    {
      "cell_type": "code",
      "source": [
        "sg.utils.plot_history(history)\n",
        "# here we are plotting the loss and accuracy on both training and validation sets"
      ],
      "metadata": {
        "colab": {
          "base_uri": "https://localhost:8080/",
          "height": 585
        },
        "id": "Dc8tLJ8IIEah",
        "outputId": "b31e3d85-0572-489b-f0db-1e16cd83c279"
      },
      "execution_count": 71,
      "outputs": [
        {
          "output_type": "display_data",
          "data": {
            "text/plain": [
              "<Figure size 504x576 with 2 Axes>"
            ],
            "image/png": "[encoded data removed]"
          },
          "metadata": {
            "needs_background": "light"
          }
        }
      ]
    },
    {
      "cell_type": "code",
      "source": [
        "# using the similar generator, we generate our testing data for final check of the model\n",
        "test_gen = generator.flow(test_set.index, test_target)"
      ],
      "metadata": {
        "id": "TJiCUQsnJHbR"
      },
      "execution_count": 72,
      "outputs": []
    },
    {
      "cell_type": "code",
      "source": [
        "test_metrics = model.evaluate(test_gen)\n",
        "print(\"\\nTest Set Metrics:\")\n",
        "for name, val in zip(model.metrics_names, test_metrics):\n",
        "    print(\"\\t{}: {:0.4f}\".format(name, val))"
      ],
      "metadata": {
        "colab": {
          "base_uri": "https://localhost:8080/"
        },
        "id": "7gvlLuLfJVMN",
        "outputId": "a81c8509-bab1-4b2a-e712-2529031ba8ac"
      },
      "execution_count": 73,
      "outputs": [
        {
          "output_type": "stream",
          "name": "stdout",
          "text": [
            "1/1 [==============================] - 0s 74ms/step - loss: 0.5969 - acc: 0.8297\n",
            "\n",
            "Test Set Metrics:\n",
            "\tloss: 0.5969\n",
            "\tacc: 0.8297\n"
          ]
        }
      ]
    },
    {
      "cell_type": "code",
      "source": [
        "# now we are going to perform the prediction of nodes, to do so we will this time give all the nodes to the generator and predict the labels of each of them\n",
        "all_nodes = unique_labels.index\n",
        "all_gen = generator.flow(all_nodes)\n",
        "all_predictions = model.predict(all_gen)"
      ],
      "metadata": {
        "id": "Y6dhheUGKimc"
      },
      "execution_count": 74,
      "outputs": []
    },
    {
      "cell_type": "code",
      "source": [
        "# The predictions were the output of the softmax layer, so to get final categories we’ll\n",
        "# use the inverse_transform method of our target attribute specification to turn these values back to the original categories.\n",
        " \n",
        "node_predictions = target_encoding.inverse_transform(all_predictions.squeeze())"
      ],
      "metadata": {
        "id": "X7YevXhMK5Ui"
      },
      "execution_count": 75,
      "outputs": []
    },
    {
      "cell_type": "code",
      "source": [
        "df = pd.DataFrame({\"Predicted\": node_predictions, \"True\": unique_labels})\n",
        "df.head(10)"
      ],
      "metadata": {
        "colab": {
          "base_uri": "https://localhost:8080/",
          "height": 363
        },
        "id": "5Q_gkTd0K89y",
        "outputId": "cc501916-172c-4fee-8cdb-89ea44c3b2af"
      },
      "execution_count": 77,
      "outputs": [
        {
          "output_type": "execute_result",
          "data": {
            "text/plain": [
              "                      Predicted                    True\n",
              "31336           Neural_Networks         Neural_Networks\n",
              "1061127           Rule_Learning           Rule_Learning\n",
              "1106406  Reinforcement_Learning  Reinforcement_Learning\n",
              "13195    Reinforcement_Learning  Reinforcement_Learning\n",
              "37879     Probabilistic_Methods   Probabilistic_Methods\n",
              "1126012   Probabilistic_Methods   Probabilistic_Methods\n",
              "1107140  Reinforcement_Learning                  Theory\n",
              "1102850         Neural_Networks         Neural_Networks\n",
              "31349           Neural_Networks         Neural_Networks\n",
              "1106418                  Theory                  Theory"
            ],
            "text/html": [
              "\n",
              "  <div id=\"df-758dd236-dcd3-4f34-ac1a-a996ae3ac23b\">\n",
              "    <div class=\"colab-df-container\">\n",
              "      <div>\n",
              "<style scoped>\n",
              "    .dataframe tbody tr th:only-of-type {\n",
              "        vertical-align: middle;\n",
              "    }\n",
              "\n",
              "    .dataframe tbody tr th {\n",
              "        vertical-align: top;\n",
              "    }\n",
              "\n",
              "    .dataframe thead th {\n",
              "        text-align: right;\n",
              "    }\n",
              "</style>\n",
              "<table border=\"1\" class=\"dataframe\">\n",
              "  <thead>\n",
              "    <tr style=\"text-align: right;\">\n",
              "      <th></th>\n",
              "      <th>Predicted</th>\n",
              "      <th>True</th>\n",
              "    </tr>\n",
              "  </thead>\n",
              "  <tbody>\n",
              "    <tr>\n",
              "      <th>31336</th>\n",
              "      <td>Neural_Networks</td>\n",
              "      <td>Neural_Networks</td>\n",
              "    </tr>\n",
              "    <tr>\n",
              "      <th>1061127</th>\n",
              "      <td>Rule_Learning</td>\n",
              "      <td>Rule_Learning</td>\n",
              "    </tr>\n",
              "    <tr>\n",
              "      <th>1106406</th>\n",
              "      <td>Reinforcement_Learning</td>\n",
              "      <td>Reinforcement_Learning</td>\n",
              "    </tr>\n",
              "    <tr>\n",
              "      <th>13195</th>\n",
              "      <td>Reinforcement_Learning</td>\n",
              "      <td>Reinforcement_Learning</td>\n",
              "    </tr>\n",
              "    <tr>\n",
              "      <th>37879</th>\n",
              "      <td>Probabilistic_Methods</td>\n",
              "      <td>Probabilistic_Methods</td>\n",
              "    </tr>\n",
              "    <tr>\n",
              "      <th>1126012</th>\n",
              "      <td>Probabilistic_Methods</td>\n",
              "      <td>Probabilistic_Methods</td>\n",
              "    </tr>\n",
              "    <tr>\n",
              "      <th>1107140</th>\n",
              "      <td>Reinforcement_Learning</td>\n",
              "      <td>Theory</td>\n",
              "    </tr>\n",
              "    <tr>\n",
              "      <th>1102850</th>\n",
              "      <td>Neural_Networks</td>\n",
              "      <td>Neural_Networks</td>\n",
              "    </tr>\n",
              "    <tr>\n",
              "      <th>31349</th>\n",
              "      <td>Neural_Networks</td>\n",
              "      <td>Neural_Networks</td>\n",
              "    </tr>\n",
              "    <tr>\n",
              "      <th>1106418</th>\n",
              "      <td>Theory</td>\n",
              "      <td>Theory</td>\n",
              "    </tr>\n",
              "  </tbody>\n",
              "</table>\n",
              "</div>\n",
              "      <button class=\"colab-df-convert\" onclick=\"convertToInteractive('df-758dd236-dcd3-4f34-ac1a-a996ae3ac23b')\"\n",
              "              title=\"Convert this dataframe to an interactive table.\"\n",
              "              style=\"display:none;\">\n",
              "        \n",
              "  <svg xmlns=\"http://www.w3.org/2000/svg\" height=\"24px\"viewBox=\"0 0 24 24\"\n",
              "       width=\"24px\">\n",
              "    <path d=\"M0 0h24v24H0V0z\" fill=\"none\"/>\n",
              "    <path d=\"M18.56 5.44l.94 2.06.94-2.06 2.06-.94-2.06-.94-.94-2.06-.94 2.06-2.06.94zm-11 1L8.5 8.5l.94-2.06 2.06-.94-2.06-.94L8.5 2.5l-.94 2.06-2.06.94zm10 10l.94 2.06.94-2.06 2.06-.94-2.06-.94-.94-2.06-.94 2.06-2.06.94z\"/><path d=\"M17.41 7.96l-1.37-1.37c-.4-.4-.92-.59-1.43-.59-.52 0-1.04.2-1.43.59L10.3 9.45l-7.72 7.72c-.78.78-.78 2.05 0 2.83L4 21.41c.39.39.9.59 1.41.59.51 0 1.02-.2 1.41-.59l7.78-7.78 2.81-2.81c.8-.78.8-2.07 0-2.86zM5.41 20L4 18.59l7.72-7.72 1.47 1.35L5.41 20z\"/>\n",
              "  </svg>\n",
              "      </button>\n",
              "      \n",
              "  <style>\n",
              "    .colab-df-container {\n",
              "      display:flex;\n",
              "      flex-wrap:wrap;\n",
              "      gap: 12px;\n",
              "    }\n",
              "\n",
              "    .colab-df-convert {\n",
              "      background-color: #E8F0FE;\n",
              "      border: none;\n",
              "      border-radius: 50%;\n",
              "      cursor: pointer;\n",
              "      display: none;\n",
              "      fill: #1967D2;\n",
              "      height: 32px;\n",
              "      padding: 0 0 0 0;\n",
              "      width: 32px;\n",
              "    }\n",
              "\n",
              "    .colab-df-convert:hover {\n",
              "      background-color: #E2EBFA;\n",
              "      box-shadow: 0px 1px 2px rgba(60, 64, 67, 0.3), 0px 1px 3px 1px rgba(60, 64, 67, 0.15);\n",
              "      fill: #174EA6;\n",
              "    }\n",
              "\n",
              "    [theme=dark] .colab-df-convert {\n",
              "      background-color: #3B4455;\n",
              "      fill: #D2E3FC;\n",
              "    }\n",
              "\n",
              "    [theme=dark] .colab-df-convert:hover {\n",
              "      background-color: #434B5C;\n",
              "      box-shadow: 0px 1px 3px 1px rgba(0, 0, 0, 0.15);\n",
              "      filter: drop-shadow(0px 1px 2px rgba(0, 0, 0, 0.3));\n",
              "      fill: #FFFFFF;\n",
              "    }\n",
              "  </style>\n",
              "\n",
              "      <script>\n",
              "        const buttonEl =\n",
              "          document.querySelector('#df-758dd236-dcd3-4f34-ac1a-a996ae3ac23b button.colab-df-convert');\n",
              "        buttonEl.style.display =\n",
              "          google.colab.kernel.accessAllowed ? 'block' : 'none';\n",
              "\n",
              "        async function convertToInteractive(key) {\n",
              "          const element = document.querySelector('#df-758dd236-dcd3-4f34-ac1a-a996ae3ac23b');\n",
              "          const dataTable =\n",
              "            await google.colab.kernel.invokeFunction('convertToInteractive',\n",
              "                                                     [key], {});\n",
              "          if (!dataTable) return;\n",
              "\n",
              "          const docLinkHtml = 'Like what you see? Visit the ' +\n",
              "            '<a target=\"_blank\" href=https://colab.research.google.com/notebooks/data_table.ipynb>data table notebook</a>'\n",
              "            + ' to learn more about interactive tables.';\n",
              "          element.innerHTML = '';\n",
              "          dataTable['output_type'] = 'display_data';\n",
              "          await google.colab.output.renderOutput(dataTable, element);\n",
              "          const docLink = document.createElement('div');\n",
              "          docLink.innerHTML = docLinkHtml;\n",
              "          element.appendChild(docLink);\n",
              "        }\n",
              "      </script>\n",
              "    </div>\n",
              "  </div>\n",
              "  "
            ]
          },
          "metadata": {},
          "execution_count": 77
        }
      ]
    },
    {
      "cell_type": "markdown",
      "source": [
        "As we can see above, 9/10 nodes were classified correctly."
      ],
      "metadata": {
        "id": "IvD2wS1dX8XA"
      }
    },
    {
      "cell_type": "markdown",
      "source": [
        "To get a better and even clearer picture of how nodes are surrounded and where exactly they are in the space of dataset, we'll use the node embedding by colouring the different labels in different colours and plotting them altogether."
      ],
      "metadata": {
        "id": "IrvZmodcYRVY"
      }
    },
    {
      "cell_type": "code",
      "source": [
        "# To create a model for predicting node embedding we use the same model with just replacing the \n",
        "# x_out as the output tensors compared to GCN ones.\n",
        "embedding_model = Model(inputs=x_inp, outputs=x_out)\n",
        "\n",
        "# Note: The weights that were finally assigned in the node prediction models will be used here"
      ],
      "metadata": {
        "id": "Eb6rlpS-LIZz"
      },
      "execution_count": 80,
      "outputs": []
    },
    {
      "cell_type": "code",
      "source": [
        "emb = embedding_model.predict(all_gen)\n",
        "emb.shape\n",
        "# The last GCN layer had output dimension 20, meaning each embedding consists of 20 numbers. To plot this we'll project down these to 2 numbers \n",
        "# and then plot a 2d graph"
      ],
      "metadata": {
        "colab": {
          "base_uri": "https://localhost:8080/"
        },
        "id": "XwAyTCEuLKGf",
        "outputId": "2099bcce-0f01-4847-c921-22ad7ecfe98a"
      },
      "execution_count": 82,
      "outputs": [
        {
          "output_type": "execute_result",
          "data": {
            "text/plain": [
              "(1, 2708, 20)"
            ]
          },
          "metadata": {},
          "execution_count": 82
        }
      ]
    },
    {
      "cell_type": "code",
      "source": [
        "from sklearn.decomposition import PCA\n",
        "from sklearn.manifold import TSNE\n",
        "\n",
        "transform = TSNE"
      ],
      "metadata": {
        "id": "FQkrPoTGLTQh"
      },
      "execution_count": 83,
      "outputs": []
    },
    {
      "cell_type": "code",
      "source": [
        "# Since the embeddings from the GCN model have a batch dimension of 1 so we squeeze this to get a matrix of N(nodes)×M(emb).\n",
        "X = emb.squeeze(0)\n",
        "X.shape"
      ],
      "metadata": {
        "colab": {
          "base_uri": "https://localhost:8080/"
        },
        "id": "_P5LWCWqLYOq",
        "outputId": "79b9082f-1afd-41d2-c238-277691a42df7"
      },
      "execution_count": 85,
      "outputs": [
        {
          "output_type": "execute_result",
          "data": {
            "text/plain": [
              "(2708, 20)"
            ]
          },
          "metadata": {},
          "execution_count": 85
        }
      ]
    },
    {
      "cell_type": "code",
      "source": [
        "# now that we have the high-dimensional vectors, we will use the transform method and project them in component size of 2.\n",
        "trans = transform(n_components=2)\n",
        "X_reduced = trans.fit_transform(X)\n",
        "# The X_reduced values contains a pair of numbers for each node\n",
        "X_reduced.shape"
      ],
      "metadata": {
        "colab": {
          "base_uri": "https://localhost:8080/"
        },
        "id": "igHroB50Lb80",
        "outputId": "f167d98d-daf7-49c6-872f-c001527f1f6d"
      },
      "execution_count": 86,
      "outputs": [
        {
          "output_type": "stream",
          "name": "stderr",
          "text": [
            "/usr/local/lib/python3.7/dist-packages/sklearn/manifold/_t_sne.py:783: FutureWarning: The default initialization in TSNE will change from 'random' to 'pca' in 1.2.\n",
            "  FutureWarning,\n",
            "/usr/local/lib/python3.7/dist-packages/sklearn/manifold/_t_sne.py:793: FutureWarning: The default learning rate in TSNE will change from 200.0 to 'auto' in 1.2.\n",
            "  FutureWarning,\n"
          ]
        },
        {
          "output_type": "execute_result",
          "data": {
            "text/plain": [
              "(2708, 2)"
            ]
          },
          "metadata": {},
          "execution_count": 86
        }
      ]
    },
    {
      "cell_type": "code",
      "source": [
        "fig, ax = plt.subplots(figsize=(7, 7))\n",
        "ax.scatter(\n",
        "    X_reduced[:, 0],\n",
        "    X_reduced[:, 1],\n",
        "    c=unique_labels.astype(\"category\").cat.codes,\n",
        "    cmap=\"jet\",\n",
        "    alpha=0.7,\n",
        ")\n",
        "ax.set(\n",
        "    aspect=\"equal\",\n",
        "    xlabel=\"$X_1$\",\n",
        "    ylabel=\"$X_2$\",\n",
        "    title=f\"{transform.__name__} visualization of GCN embeddings for cora dataset\",\n",
        ")"
      ],
      "metadata": {
        "colab": {
          "base_uri": "https://localhost:8080/",
          "height": 515
        },
        "id": "j6f6u2BINCcc",
        "outputId": "5c36174a-d110-44f1-e91f-e4b2dba9c232"
      },
      "execution_count": 87,
      "outputs": [
        {
          "output_type": "execute_result",
          "data": {
            "text/plain": [
              "[Text(0, 0.5, '$X_2$'),\n",
              " Text(0.5, 0, '$X_1$'),\n",
              " Text(0.5, 1.0, 'TSNE visualization of GCN embeddings for cora dataset'),\n",
              " None]"
            ]
          },
          "metadata": {},
          "execution_count": 87
        },
        {
          "output_type": "display_data",
          "data": {
            "text/plain": [
              "<Figure size 504x504 with 1 Axes>"
            ],
            "image/png": "[encoded data removed]"
          },
          "metadata": {
            "needs_background": "light"
          }
        }
      ]
    },
    {
      "cell_type": "markdown",
      "source": [
        "Above we can see 7 different colours denoting the 7 unique_labels of the dataset. The classification makes them look distinguishable."
      ],
      "metadata": {
        "id": "l7ROi7xCbAzB"
      }
    }
  ]
}